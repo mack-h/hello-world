{
  "nbformat": 4,
  "nbformat_minor": 0,
  "metadata": {
    "colab": {
      "provenance": [],
      "gpuType": "V28",
      "authorship_tag": "ABX9TyMnXU5pSsKH8tInsrHwnrls",
      "include_colab_link": true
    },
    "kernelspec": {
      "name": "python3",
      "display_name": "Python 3"
    },
    "language_info": {
      "name": "python"
    },
    "accelerator": "TPU"
  },
  "cells": [
    {
      "cell_type": "markdown",
      "metadata": {
        "id": "view-in-github",
        "colab_type": "text"
      },
      "source": [
        "<a href=\"https://colab.research.google.com/github/mack-h/hello-world/blob/master/antibody_finder.ipynb\" target=\"_parent\"><img src=\"https://colab.research.google.com/assets/colab-badge.svg\" alt=\"Open In Colab\"/></a>"
      ]
    },
    {
      "cell_type": "code",
      "execution_count": null,
      "metadata": {
        "id": "RDiMz-sL8wiP"
      },
      "outputs": [],
      "source": []
    },
    {
      "cell_type": "markdown",
      "source": [
        "# Automating peptide/immunogen analyses for antibody eligibility using **Selenium**\n",
        "by mack hepker\n",
        "\n",
        "June 2024\n",
        "\n",
        "\n",
        "## Introduction\n",
        "\n",
        "Selecting an antibody for your immunohistochemistry (IHC) or immunofluorescence (IF) study can be overwhelming -- especially when considering all of the factors that play into an antibody's affinity for binding, including variable chemical properties of the tissue sample, the protein of interest, and your protocol reagents.\n",
        "\n",
        "These factors may be overlooked when selecting an antibody, especially when trying to account for the diversity of antibodies on the market for an individual protein of interest, each with their own properties to toss into the ring. This likely contributes to the reputation of IHC/IF for being fickle, especially in longer-fix tissue (e.g. human, non-human primate, and other species of intrigue outside the realm of highly controlled lab animal models). Alternatively, it may feel prudent to avoid using a given antibody unless it has been previously validated in similar tissue, either through word of mouth or publication.\n",
        "\n",
        "Antibodies are often validated by the vendor with basic and clinical research in mind, wherein laboratory animal tissue is quickly processed after death. Typically, there is little further testing or acknowledgment of an antibody's binding efficacy in tissue put through variable post-mortem processing conditions, which can (and very much do) impact **1)** the structure of the protein of interest and **2)** the accessibility of the protein of interest, both of which are inherent to the antibody's ability to bind to it.\n",
        "\n",
        "Most antibodies are made against human protein sequences for use in rapid-fix rodent tissue with minimal processing that would distort the molecular composition of the tissue. Therefore, the immunogen / peptide sequence is assuredly homologous between a human and the animal model (e.g. mouse).\n",
        "\n",
        "Often, the immunogen is a *subset* of the peptide of interest, either because that subset is homologous between species (whereas other sections of the peptide are not); that particular domain is more amenable to antibody binding (ex. extracellular, therefore exposed); or it is a more hydrophilic in its amino acid composition (turning it outward towards the antibody solution, where it can be accessed). Immunogens corresponding to the entirety of a peptide sequence may be less IHC-friendly -- smaller peptides better permeate cell membranes and wayward fixative cross-links.\n",
        "\n",
        "\n",
        "**It is important, and relatively simple, to take steps to best ensure that an antibody will similarly work with your method and range of samples.**\n",
        "\n",
        "* This includes ensuring the immunogen -- derived from human, mouse, or rat protein sequences -- is homologous across all of your species of interest. Alternatively, you can know whether to use a certain marker to evaluate protein expression in *some,* but not other, species of interest--a low (< 65 %) homology inhibits or precludes the ability of the antibody to bind to the protein in that species, whether or not the protein is present.\n",
        "\n",
        "* This also includes obtaining information about the cellular location of the peptide immunogen. Nuclear and intracellular domains may benefit more from increased membrane-permeabilization measures in your protocol; transmembrane receptors may benefit from less.\n",
        "\n",
        "* Finally, obtaining essential properties of the immunogen peptide sequence, such as hydrophobicity/hydrophilicity ratio, isoelectric point, and net charge at pH 7.0.\n",
        "\n",
        "Here, we automate these steps using the popular Selenium web-scraping tool, available as a Python package. Selenium can be run from the command line, a Google Colab notebook (such as this) or Jupyter notebook, a Python IDE, ChatGPT, or any other interface where Python is installed and accessible. We will use peptide sequence (AAs) and desired parameters as input, and amend them to a document for your reference when making your purchasing and protocol decisions. These steps may also be conducted manually, or separately given a peptide sequence.\n",
        "\n",
        "## Outline\n",
        "\n",
        "1) Obtain immunogen sequence.\n",
        "\n",
        "2) Check for % homology across species of interest (ex. using NCBI Protein BLAST).\n",
        "* > Greater than 75% homology is ideal to avoid false negative staining in your species of interest. < 50% homology is necessary to assure no cross-reactivity (this is especially important to look out for, as your peptide sequence may be somewhat similar to pieces of other proteins, resulting in false positive staining).\n",
        "\n",
        "3)\n",
        "\n",
        "\n"
      ],
      "metadata": {
        "id": "mH39Q7Fp88hQ"
      }
    },
    {
      "cell_type": "markdown",
      "source": [
        ">In progress: scraping immunogen sequences directly from commercial antibody webpages.\n",
        "\n",
        "\n",
        "Let's say we're interested in this Neuromedin-B (NMB) antibody from ProteinTech, who publish their full immunogen sequences:\n",
        "\n",
        "https://www.ptglab.com/products/NMB-Fusion-Protein-ag0842.htm\n",
        "\n",
        "**Immunogen sequence:**\n",
        "MARRAGGARMFGSLLLFALLAAGVAPLSWDLPEPRSRASKIRVHSRGNLWATGHFMGKKSLEPSSPSPLGTATHTSLRDQRLQLSHDLLGILLLKKALGVSLSRPAPQIQEAAGTNTAEMTPIMGQTQQRGLDCAHPGKVLNGTLLMAPSGCKS\n"
      ],
      "metadata": {
        "id": "VIyPjdnebh4R"
      }
    },
    {
      "cell_type": "markdown",
      "source": [
        "Install Selenium"
      ],
      "metadata": {
        "id": "HJ6gOYmVkXb-"
      }
    },
    {
      "cell_type": "code",
      "source": [
        "!apt-get update # Standard procedure\n",
        "#!apt-get install -y chromium-chromedriver # Connects Selenium to Google Chrome browser\n",
        "#!apt-get install -y xvfb # Dependency for virtual display (necessary for Colab environment)\n",
        "!pip install selenium # Python webscraping package used here (alternative: beautifulsoup)\n",
        "!pip install biopython # called as Bio in webscraping block, accesses Entrez protein database\n",
        "\n",
        "# Install virtual display (for Colab, as there is no built-in display)\n",
        "# !pip install pyvirtualdisplay"
      ],
      "metadata": {
        "colab": {
          "base_uri": "https://localhost:8080/"
        },
        "id": "S4OEk1_GkSdJ",
        "outputId": "6c0cfee4-665e-4610-a4f1-a9dad7cd639a"
      },
      "execution_count": null,
      "outputs": [
        {
          "output_type": "stream",
          "name": "stdout",
          "text": [
            "\r0% [Working]\r            \rGet:1 https://dl.google.com/linux/chrome/deb stable InRelease [1,825 B]\n",
            "\r0% [Connecting to archive.ubuntu.com (185.125.190.81)] [Waiting for headers] [Connected to cloud.r-p\r0% [Connecting to archive.ubuntu.com (185.125.190.81)] [Waiting for headers] [Connected to cloud.r-p\r                                                                                                    \rHit:2 https://cloud.r-project.org/bin/linux/ubuntu jammy-cran40/ InRelease\n",
            "\r0% [Connecting to archive.ubuntu.com (185.125.190.81)] [Waiting for headers] [Connecting to ppa.laun\r                                                                                                    \rHit:3 https://developer.download.nvidia.com/compute/cuda/repos/ubuntu2204/x86_64  InRelease\n",
            "Hit:4 http://security.ubuntu.com/ubuntu jammy-security InRelease\n",
            "Hit:5 http://archive.ubuntu.com/ubuntu jammy InRelease\n",
            "Hit:6 http://archive.ubuntu.com/ubuntu jammy-updates InRelease\n",
            "Get:7 https://dl.google.com/linux/chrome/deb stable/main amd64 Packages [1,085 B]\n",
            "Hit:8 http://archive.ubuntu.com/ubuntu jammy-backports InRelease\n",
            "Hit:9 https://ppa.launchpadcontent.net/c2d4u.team/c2d4u4.0+/ubuntu jammy InRelease\n",
            "Hit:10 https://ppa.launchpadcontent.net/deadsnakes/ppa/ubuntu jammy InRelease\n",
            "Hit:11 https://ppa.launchpadcontent.net/graphics-drivers/ppa/ubuntu jammy InRelease\n",
            "Hit:12 https://ppa.launchpadcontent.net/ubuntugis/ppa/ubuntu jammy InRelease\n",
            "Fetched 2,910 B in 2s (1,530 B/s)\n",
            "Reading package lists... Done\n",
            "Requirement already satisfied: selenium in /usr/local/lib/python3.10/dist-packages (4.21.0)\n",
            "Requirement already satisfied: urllib3[socks]<3,>=1.26 in /usr/local/lib/python3.10/dist-packages (from selenium) (2.0.7)\n",
            "Requirement already satisfied: trio~=0.17 in /usr/local/lib/python3.10/dist-packages (from selenium) (0.25.1)\n",
            "Requirement already satisfied: trio-websocket~=0.9 in /usr/local/lib/python3.10/dist-packages (from selenium) (0.11.1)\n",
            "Requirement already satisfied: certifi>=2021.10.8 in /usr/local/lib/python3.10/dist-packages (from selenium) (2024.6.2)\n",
            "Requirement already satisfied: typing_extensions>=4.9.0 in /usr/local/lib/python3.10/dist-packages (from selenium) (4.12.2)\n",
            "Requirement already satisfied: attrs>=23.2.0 in /usr/local/lib/python3.10/dist-packages (from trio~=0.17->selenium) (23.2.0)\n",
            "Requirement already satisfied: sortedcontainers in /usr/local/lib/python3.10/dist-packages (from trio~=0.17->selenium) (2.4.0)\n",
            "Requirement already satisfied: idna in /usr/local/lib/python3.10/dist-packages (from trio~=0.17->selenium) (3.7)\n",
            "Requirement already satisfied: outcome in /usr/local/lib/python3.10/dist-packages (from trio~=0.17->selenium) (1.3.0.post0)\n",
            "Requirement already satisfied: sniffio>=1.3.0 in /usr/local/lib/python3.10/dist-packages (from trio~=0.17->selenium) (1.3.1)\n",
            "Requirement already satisfied: exceptiongroup in /usr/local/lib/python3.10/dist-packages (from trio~=0.17->selenium) (1.2.1)\n",
            "Requirement already satisfied: wsproto>=0.14 in /usr/local/lib/python3.10/dist-packages (from trio-websocket~=0.9->selenium) (1.2.0)\n",
            "Requirement already satisfied: pysocks!=1.5.7,<2.0,>=1.5.6 in /usr/local/lib/python3.10/dist-packages (from urllib3[socks]<3,>=1.26->selenium) (1.7.1)\n",
            "Requirement already satisfied: h11<1,>=0.9.0 in /usr/local/lib/python3.10/dist-packages (from wsproto>=0.14->trio-websocket~=0.9->selenium) (0.14.0)\n",
            "Requirement already satisfied: biopython in /usr/local/lib/python3.10/dist-packages (1.83)\n",
            "Requirement already satisfied: numpy in /usr/local/lib/python3.10/dist-packages (from biopython) (1.25.2)\n"
          ]
        }
      ]
    },
    {
      "cell_type": "code",
      "source": [
        "%pip install -q google-colab-selenium\n",
        "from selenium.webdriver.common.by import By\n",
        "from selenium.webdriver.support.ui import WebDriverWait\n",
        "from selenium.webdriver.support import expected_conditions as EC\n",
        "import os\n",
        "import re\n",
        "from Bio import Entrez\n",
        "from google.colab import files\n",
        "import io\n",
        "import time\n",
        "import requests"
      ],
      "metadata": {
        "id": "pftw08XpK08l"
      },
      "execution_count": null,
      "outputs": []
    },
    {
      "cell_type": "code",
      "source": [
        "import google_colab_selenium as gs"
      ],
      "metadata": {
        "id": "d969OrDfFtWA"
      },
      "execution_count": null,
      "outputs": []
    },
    {
      "cell_type": "code",
      "source": [
        "driver = gs.Chrome()"
      ],
      "metadata": {
        "colab": {
          "base_uri": "https://localhost:8080/",
          "height": 37
        },
        "id": "HIPvNYs7F08H",
        "outputId": "08c78e9a-9c16-4c80-f78c-c2a322a51bff"
      },
      "execution_count": null,
      "outputs": [
        {
          "output_type": "display_data",
          "data": {
            "text/plain": [
              "<IPython.core.display.HTML object>"
            ],
            "text/html": [
              "\n",
              "            <div class=\"spinner-container\">\n",
              "                <div class=\"spinner\" id=\"cd8b6452-6621-466b-af46-74cf1e671f84-circle\"></div>\n",
              "                <div class=\"spinner-text\" id=\"cd8b6452-6621-466b-af46-74cf1e671f84-text\">Initializing Chromedriver</div>\n",
              "            </div>\n",
              "            <style>\n",
              "                @keyframes spin {\n",
              "                    from { transform: rotate(0deg); }\n",
              "                    to { transform: rotate(360deg); }\n",
              "                }\n",
              "\n",
              "                .spinner-container {\n",
              "                    display: flex;\n",
              "                    align-items: center;\n",
              "                    margin-bottom: 3px;\n",
              "                }\n",
              "\n",
              "                .spinner {\n",
              "                    border: 3px solid rgba(0, 0, 0, 0.1);\n",
              "                    border-left-color: lightblue;\n",
              "                    border-radius: 50%;\n",
              "                    width: 12px;\n",
              "                    height: 12px;\n",
              "                    animation: spin 1s linear infinite;\n",
              "                }\n",
              "\n",
              "                .spinner-text {\n",
              "                    padding-left: 6px;\n",
              "                }\n",
              "            </style>\n",
              "        "
            ]
          },
          "metadata": {}
        },
        {
          "output_type": "display_data",
          "data": {
            "text/plain": [
              "<IPython.core.display.Javascript object>"
            ],
            "application/javascript": [
              "\n",
              "            const element = document.getElementById(\"cd8b6452-6621-466b-af46-74cf1e671f84-circle\");\n",
              "            element.style.border = \"3px solid limegreen\";\n",
              "            element.style.animation = \"none\";\n",
              "\n",
              "            const text = document.getElementById(\"cd8b6452-6621-466b-af46-74cf1e671f84-text\");\n",
              "            text.innerText = \"Initialized Chromedriver\";\n",
              "        "
            ]
          },
          "metadata": {}
        }
      ]
    },
    {
      "cell_type": "markdown",
      "source": [
        "Test below to be sure the driver is working -- should 'get' https://www.google.com and then 'print' the title variable within this data -- Google."
      ],
      "metadata": {
        "id": "pnO9iYt9G4q1"
      }
    },
    {
      "cell_type": "code",
      "source": [
        "driver.get('https://www.google.com')\n",
        "print(driver.title)\n",
        "driver.quit()"
      ],
      "metadata": {
        "colab": {
          "base_uri": "https://localhost:8080/"
        },
        "id": "-8-BdLbWGxxy",
        "outputId": "a9fd8476-a8e8-4eb9-8ecf-f31a34af3e02"
      },
      "execution_count": null,
      "outputs": [
        {
          "output_type": "stream",
          "name": "stdout",
          "text": [
            "Google\n"
          ]
        }
      ]
    },
    {
      "cell_type": "markdown",
      "source": [
        "*Get Chromium and Chromedriver (necessary for navigating the web through Selenium, and a common source of errors, discrepancies and incompatibilities). In Colab, because **snap** is not supported to download packages, it must be done manually, as below.*"
      ],
      "metadata": {
        "id": "QXXPAGtIJyTR"
      }
    },
    {
      "cell_type": "markdown",
      "source": [
        "*Run this code if you need to install new chromedrivers, to make sure the\n",
        "defunct files are cleaned out and uncallable.* **This will not be necessary if google-colab-selenium is working.**"
      ],
      "metadata": {
        "id": "FX1mlJpUYNKe"
      }
    },
    {
      "cell_type": "markdown",
      "source": [
        "*Install compatible versions of Chrome and Chromedriver to run together and in Colab. This may change with time.*"
      ],
      "metadata": {
        "id": "7710D6bJYbyk"
      }
    },
    {
      "cell_type": "code",
      "source": [
        "# Below searches for possible Chrome paths if they can't be found after installation. We found one!\n",
        "\n",
        "import shutil\n",
        "\n",
        "# Check Google Chrome path\n",
        "chrome_path = \"/opt/google/chrome/google-chrome\"\n",
        "if chrome_path:\n",
        "    print(f\"Google Chrome path: {chrome_path}\")\n",
        "else:\n",
        "    print(\"Google Chrome not found in the expected locations.\")"
      ],
      "metadata": {
        "colab": {
          "base_uri": "https://localhost:8080/"
        },
        "id": "evWiW4QDtfbE",
        "outputId": "981a8727-649f-4e8f-bb03-784d3f91d15b"
      },
      "execution_count": null,
      "outputs": [
        {
          "output_type": "stream",
          "name": "stdout",
          "text": [
            "Google Chrome path: /opt/google/chrome/google-chrome\n"
          ]
        }
      ]
    },
    {
      "cell_type": "markdown",
      "source": [
        "(Deprecated block) Compatible Chromedriver installation"
      ],
      "metadata": {
        "id": "t2wfN_gHdSw9"
      }
    },
    {
      "cell_type": "markdown",
      "source": [
        "Further configure the ChromeDriver for our setup."
      ],
      "metadata": {
        "id": "liNtByVpLWBx"
      }
    },
    {
      "cell_type": "markdown",
      "source": [
        "WORKING PARTS BELOW"
      ],
      "metadata": {
        "id": "DiZfBJBGyYIz"
      }
    },
    {
      "cell_type": "code",
      "source": [
        "\"\"\"\n",
        "# Import libraries and set up virtual display\n",
        "from pyvirtualdisplay import Display\n",
        "from selenium import webdriver\n",
        "from selenium.webdriver.common.by import By\n",
        "from selenium.webdriver.support.ui import WebDriverWait\n",
        "from selenium.webdriver.support import expected_conditions as EC\n",
        "import re\n",
        "from google.colab import files\n",
        "from Bio import Entrez\n",
        "!apt-get install -y wget unzip xvfb\n",
        "\n",
        "# Set up virtual display\n",
        "display = Display(visible=0, size=(1024, 768))\n",
        "display.start()\n",
        "\"\"\""
      ],
      "metadata": {
        "colab": {
          "base_uri": "https://localhost:8080/"
        },
        "id": "a4ydv1dalDfZ",
        "outputId": "2730100c-77bf-45fc-8812-88864fb54a88"
      },
      "execution_count": null,
      "outputs": [
        {
          "output_type": "execute_result",
          "data": {
            "text/plain": [
              "<pyvirtualdisplay.display.Display at 0x7da11f485b70>"
            ]
          },
          "metadata": {},
          "execution_count": 85
        }
      ]
    },
    {
      "cell_type": "code",
      "source": [
        "# Configure Selenium to use the headless Chrome browser:\n",
        "\n",
        "#options = webdriver.ChromeOptions()\n",
        "#options.add_argument('--headless')\n",
        "#options.add_argument('--no-sandbox')\n",
        "#options.add_argument('--disable-dev-shm-usage')\n",
        "#options.add_argument('--disable-gpu')\n",
        "#options.add_argument('--window-size=1024x768')\n",
        "#options.add_argument('--disable-infobars')\n",
        "#options.add_argument('--disable-extensions')\n",
        "#options.add_argument('--remote-debugging-port=9222')\n",
        "\n",
        "#driver = webdriver.Chrome(options=options)\n",
        "\n"
      ],
      "metadata": {
        "id": "8cC_43Ublm3e"
      },
      "execution_count": null,
      "outputs": []
    },
    {
      "cell_type": "markdown",
      "source": [
        "Use NCBI Blast to check for percent homology across species of interest\n",
        "\n",
        "From the main BLAST webpage, you click 'Protein BLAST'.\n",
        "\n",
        "The Protein BLAST page defaults to the 'blastp' tab, used for protein queries -- this is what we always want for this purpose."
      ],
      "metadata": {
        "id": "maMK9OA7jSwX"
      }
    },
    {
      "cell_type": "markdown",
      "source": [
        "# Using Selenium to batch this process for multiple immunogen sequences"
      ],
      "metadata": {
        "id": "o5SaHSBPts2V"
      }
    },
    {
      "cell_type": "markdown",
      "source": [
        "**Note:** Be sure you have run the update, selenium, and driver installations in the code box above, or this won't work. If there is a green checkmark to the left of the code boxes, you're good!\n",
        "\n"
      ],
      "metadata": {
        "id": "WsxGQpYfuBma"
      }
    },
    {
      "cell_type": "markdown",
      "source": [
        "Combo of ChatGPT and forum hints for installing the chrome driver."
      ],
      "metadata": {
        "id": "42-wy1SVXFe2"
      }
    },
    {
      "cell_type": "markdown",
      "source": [
        "Get updated Chromium packages that work with Colab. Also, maybe this would all work in Google chrome?\n",
        "\n",
        "From here: https://stackoverflow.com/questions/51046454/how-can-we-use-selenium-webdriver-in-colab-research-google-com"
      ],
      "metadata": {
        "id": "CXTsfBNSXM5P"
      }
    },
    {
      "cell_type": "markdown",
      "source": [
        "Below: ChatGPT doing everything."
      ],
      "metadata": {
        "id": "w1JDl1dVXByt"
      }
    },
    {
      "cell_type": "markdown",
      "source": [
        "Configure your Entrez email (so that NCBI can contact you if needed). This is a necessary step."
      ],
      "metadata": {
        "id": "2hwy5rGuajUu"
      }
    },
    {
      "cell_type": "code",
      "source": [
        "# Configure Entrez email\n",
        "Entrez.email = \"mack.hepker@gmail.com\" ## YOUR EMAIL HERE"
      ],
      "metadata": {
        "id": "47r_i9DeaqUQ"
      },
      "execution_count": null,
      "outputs": []
    },
    {
      "cell_type": "markdown",
      "source": [
        "Upload your text file. It should have the following template.\n",
        "\n",
        "---\n",
        "\n",
        "SEQUENCES:\n",
        "\n",
        "\n",
        "SPECIES:\n",
        "\n",
        "---\n",
        "\n",
        "**Example:**\n",
        "\n",
        "SEQUENCES:\n",
        "\n",
        "NMB [1-60]\n",
        "\n",
        "SPECIES:\n",
        "\n",
        "Human\n",
        "\n",
        "Chimpanzee\n",
        "\n",
        "Bonobo\n",
        "\n",
        "**Run the code below to be prompted to upload your file.**\n",
        "\n"
      ],
      "metadata": {
        "id": "v-LCSXczavJB"
      }
    },
    {
      "cell_type": "markdown",
      "source": [
        "Preloaded data (fixtures), test folder, etc."
      ],
      "metadata": {
        "id": "DEjkl5Oyoum8"
      }
    },
    {
      "cell_type": "code",
      "source": [
        "mkdir test\n",
        "cd content/test/\n",
        "mkdir test_data"
      ],
      "metadata": {
        "id": "73809frmqYWB"
      },
      "execution_count": null,
      "outputs": []
    },
    {
      "cell_type": "code",
      "source": [],
      "metadata": {
        "id": "BjkgJzWOrvx6"
      },
      "execution_count": null,
      "outputs": []
    },
    {
      "cell_type": "code",
      "source": [
        "# Preloaded data\n",
        "test_filepath = 'test/test_data/selenium blast template 2.txt'"
      ],
      "metadata": {
        "colab": {
          "base_uri": "https://localhost:8080/",
          "height": 110
        },
        "id": "1cXpnI8Yqyd9",
        "outputId": "ffb88fdf-a558-41d5-a075-972d659fc542"
      },
      "execution_count": null,
      "outputs": [
        {
          "output_type": "error",
          "ename": "SyntaxError",
          "evalue": "invalid syntax (<ipython-input-11-69359041b85c>, line 2)",
          "traceback": [
            "\u001b[0;36m  File \u001b[0;32m\"<ipython-input-11-69359041b85c>\"\u001b[0;36m, line \u001b[0;32m2\u001b[0m\n\u001b[0;31m    mkdir test_data\u001b[0m\n\u001b[0m          ^\u001b[0m\n\u001b[0;31mSyntaxError\u001b[0m\u001b[0;31m:\u001b[0m invalid syntax\n"
          ]
        }
      ]
    },
    {
      "cell_type": "code",
      "source": [
        "import requests\n",
        "\n",
        "def download_file(url, local_filename):\n",
        "    with requests.get(url, stream=True) as r:\n",
        "        r.raise_for_status()\n",
        "        with open(local_filename, 'wb') as f:\n",
        "            for chunk in r.iter_content(chunk_size=8192):\n",
        "                f.write(chunk)\n",
        "    return local_filename\n",
        "\n",
        "def get_taxon_id(species_name):\n",
        "    # Use Entrez ESearch to search for the taxon ID\n",
        "    search_handle = Entrez.esearch(db=\"taxonomy\", term=species_name)\n",
        "    search_results = Entrez.read(search_handle)\n",
        "    search_handle.close()\n",
        "    if search_results[\"IdList\"]:\n",
        "        return search_results[\"IdList\"][0]\n",
        "    else:\n",
        "        return None\n",
        "\n",
        "def read_and_parse_file():\n",
        "    # Upload the file\n",
        "    uploaded = files.upload()\n",
        "    filename = list(uploaded.keys())[0]\n",
        "\n",
        "    # Read the file\n",
        "    with open(filename, 'r') as file:\n",
        "        content = file.read()\n",
        "\n",
        "    # Remove text between triple backticks (```)\n",
        "    content = re.sub(r'```.*?```', '', content, flags=re.DOTALL)\n",
        "\n",
        "    # Parse the file\n",
        "    sections = content.split(\"SPECIES:\")\n",
        "    sequences_section = sections[0].split(\"SEQUENCES:\")[1].strip()\n",
        "    species_section = sections[1].strip()\n",
        "\n",
        "    # Extract sequences and their ranges, ignoring numbering\n",
        "    sequences = []\n",
        "    for line in sequences_section.split(\"\\n\"):\n",
        "        print(f'Parsed line: {line}')\n",
        "        line = re.sub(r'^\\d+\\.\\s*', '', line)  # Remove numbering\n",
        "        if line.strip():  # Check if the line is not empty\n",
        "            match = re.match(r'(.+?)\\s*\\[(\\d+)-(\\d+)\\]', line)\n",
        "            if match:\n",
        "                protein = match.group(1).strip()\n",
        "                start = int(match.group(2))\n",
        "                end = int(match.group(3))\n",
        "                sequences.append({\"protein\": protein, \"start\": start, \"end\": end})\n",
        "            else:\n",
        "                sequences.append({\"protein\": line.strip(), \"start\": None, \"end\": None})\n",
        "\n",
        "    # Debugging: Print the sequences list\n",
        "    print(f\"Sequences extracted: {sequences}\")\n",
        "\n",
        "    # Extract species, ignoring numbering and setting to None if no valid species\n",
        "    species = re.split(r',|\\n', species_section)\n",
        "    species = [re.sub(r'^\\d+\\.\\s*', '', s.strip()) for s in species if s.strip()]\n",
        "\n",
        "    # Filter out empty species entries and get taxon IDs\n",
        "    taxon_ids = [get_taxon_id(s) for s in species]\n",
        "    taxon_ids = [t for t in taxon_ids if t is not None]\n",
        "\n",
        "    # Set species to None if the list is empty\n",
        "    if not taxon_ids:\n",
        "        taxon_ids = None\n",
        "\n",
        "    # Print received taxon IDs\n",
        "    if taxon_ids is None:\n",
        "        print('No valid species provided.')\n",
        "    else:\n",
        "        for taxon_id in taxon_ids:\n",
        "            print(f'Received taxon ID: {taxon_id}')\n",
        "\n",
        "    return sequences, taxon_ids"
      ],
      "metadata": {
        "id": "9QcfMTuUEgta"
      },
      "execution_count": null,
      "outputs": []
    },
    {
      "cell_type": "markdown",
      "source": [
        "Get the protein ID from Entrez based on the full name, gene name, genbank accession number, uniprot ID, partial sequence, or full sequence with range optionally identified."
      ],
      "metadata": {
        "id": "jz9f0_ivb_xM"
      }
    },
    {
      "cell_type": "code",
      "source": [
        "from Bio import Entrez, SeqIO\n",
        "import re\n",
        "import io\n",
        "\n",
        "# Configure Entrez email (replace with your own email)\n",
        "Entrez.email = \"your_email@example.com\"\n",
        "\n",
        "# Function to look up protein ID and fetch FASTA sequence with debugging and detailed results handling\n",
        "def get_protein_id(protein, species):\n",
        "    if not protein or not species:\n",
        "        return None\n",
        "\n",
        "    search_term = f\"{protein} AND {species}[Organism]\"\n",
        "    print(f\"Searching for protein: {protein} in species: {species}\")\n",
        "\n",
        "    # Perform the search in the Entrez protein database\n",
        "    search_handle = Entrez.esearch(db=\"protein\", term=search_term)\n",
        "    search_results = Entrez.read(search_handle)\n",
        "    search_handle.close()\n",
        "\n",
        "    print(f\"Search results: {search_results}\")\n",
        "\n",
        "    # Check if any IDs were found\n",
        "    if search_results[\"IdList\"]:\n",
        "        protein_id = search_results[\"IdList\"][0]\n",
        "\n",
        "        # Fetch detailed information about the first result to get the accession number and FASTA sequence\n",
        "        fetch_handle = Entrez.efetch(db=\"protein\", id=protein_id, rettype=\"fasta\", retmode=\"text\")\n",
        "        fetch_results = fetch_handle.read()\n",
        "        fetch_handle.close()\n",
        "\n",
        "        print(f\"Fetch results: {fetch_results}\")\n",
        "\n",
        "        # Extract the accession number and FASTA sequence\n",
        "        fasta_io = io.StringIO(fetch_results)\n",
        "        fasta_record = SeqIO.read(fasta_io, \"fasta\")\n",
        "        accession = fasta_record.id\n",
        "        fasta_sequence = str(fasta_record.seq)\n",
        "\n",
        "        return {\n",
        "            \"protein_id\": accession,\n",
        "            \"fasta\": fetch_results,\n",
        "            \"fasta_sequence\": fasta_sequence\n",
        "        }\n",
        "\n",
        "        print(f'Accession: {accession}')\n",
        "        print(f'FASTA Sequence: {fasta_sequence}')\n",
        "\n",
        "    else:\n",
        "        return None\n",
        "\n",
        "# Function to determine if the input is a peptide sequence\n",
        "def is_peptide_sequence(sequence):\n",
        "    valid_amino_acids = set(\"ARNDCEQGHILKMFPSTWYV\")\n",
        "    return len(sequence) > 5 and all(char in valid_amino_acids for char in sequence) and sequence.isalpha()\n",
        "\n",
        "# Process sequences\n",
        "# print('Sequences to analyze:')\n",
        "# for seq in sequences:\n",
        "#    protein = seq[\"protein\"]\n",
        "#    if protein and is_peptide_sequence(protein):  # If it is a peptide sequence\n",
        "#        seq[\"protein_id\"] = protein\n",
        "#        print(f'Received {seq[\"protein\"]}, range {seq[\"start\"]}-{seq[\"end\"]}')\n",
        "#    else:\n",
        "#        protein_id = get_protein_id(protein)\n",
        "#        seq[\"protein_id\"] = protein_id if protein_id else protein\n",
        "\n",
        "\n",
        "# Process sequences\n",
        "\n",
        "# Process sequences\n",
        "def process_sequences(sequences, species_of_interest):\n",
        "    print('Sequences to analyze:')\n",
        "    for seq in sequences:\n",
        "        protein = seq[\"protein\"]\n",
        "        print(f\"Processing sequence: {protein}\")\n",
        "        if protein and is_peptide_sequence(protein):  # If it is a peptide sequence\n",
        "            seq[\"protein_id\"] = protein\n",
        "            seq[\"fasta\"] = f\">{protein}\\n{protein}\"\n",
        "            seq[\"fasta_sequence\"] = protein\n",
        "            print(f'Using raw sequence as query, Range {seq[\"start\"]}-{seq[\"end\"]}')\n",
        "        else:\n",
        "            protein_info = get_protein_id(protein, species_of_interest)\n",
        "            if protein_info:\n",
        "                seq[\"protein_id\"] = protein_info[\"protein_id\"]\n",
        "                seq[\"fasta\"] = protein_info[\"fasta\"]\n",
        "                seq[\"fasta_sequence\"] = protein_info[\"fasta_sequence\"]\n",
        "                print(f'{protein} reconfigured to {seq[\"protein_id\"]} based on Entrez results')\n",
        "            else:\n",
        "                seq[\"protein_id\"] = protein\n",
        "                seq[\"fasta\"] = None\n",
        "                seq[\"fasta_sequence\"] = None\n",
        "\"\"\"\n",
        "def process_sequences(sequences):\n",
        "    print('Sequences to analyze:')\n",
        "    for seq in sequences:\n",
        "        protein = seq[\"protein\"]\n",
        "        print(f\"Processing sequence: {protein}\")\n",
        "        if protein and is_peptide_sequence(protein):  # If it is a peptide sequence\n",
        "            seq[\"protein_id\"] = protein\n",
        "            print(f'Using raw sequence as query, Range {seq[\"start\"]}-{seq[\"end\"]}')\n",
        "        else:\n",
        "            protein_id = get_protein_id(protein)\n",
        "            seq[\"protein_id\"] = protein_id if protein_id else protein\n",
        "        start = seq[\"start\"]\n",
        "        end = seq[\"end\"]\n",
        "        print(f'{protein} reconfigured to {seq[\"protein_id\"]} based on Entrez results')\n",
        "\"\"\"\n",
        "\n",
        "# Test the function with \"NMB\"\n",
        "# protein_name = \"NMB\"\n",
        "# protein_id = get_protein_id(protein_name)\n",
        "# print(f\"Protein ID for {protein_name}: {protein_id}\")\n"
      ],
      "metadata": {
        "id": "6XWDEtymdMAq",
        "colab": {
          "base_uri": "https://localhost:8080/",
          "height": 163
        },
        "outputId": "297ef276-f614-4c16-b0e8-c8915214e3dc"
      },
      "execution_count": null,
      "outputs": [
        {
          "output_type": "execute_result",
          "data": {
            "text/plain": [
              "'\\ndef process_sequences(sequences):\\n    print(\\'Sequences to analyze:\\')\\n    for seq in sequences:\\n        protein = seq[\"protein\"]\\n        print(f\"Processing sequence: {protein}\")\\n        if protein and is_peptide_sequence(protein):  # If it is a peptide sequence\\n            seq[\"protein_id\"] = protein\\n            print(f\\'Using raw sequence as query, Range {seq[\"start\"]}-{seq[\"end\"]}\\')\\n        else:\\n            protein_id = get_protein_id(protein)\\n            seq[\"protein_id\"] = protein_id if protein_id else protein\\n        start = seq[\"start\"]\\n        end = seq[\"end\"]\\n        print(f\\'{protein} reconfigured to {seq[\"protein_id\"]} based on Entrez results\\')\\n'"
            ],
            "application/vnd.google.colaboratory.intrinsic+json": {
              "type": "string"
            }
          },
          "metadata": {},
          "execution_count": 27
        }
      ]
    },
    {
      "cell_type": "code",
      "source": [
        "# Function to format BLAST input\n",
        "def format_blast_input(sequences):\n",
        "    blast_input = \"\"\n",
        "    for seq in sequences:\n",
        "        fasta = seq.get(\"fasta\")\n",
        "        if fasta:\n",
        "            blast_input += f\"{fasta}\\n\"\n",
        "        else:\n",
        "            blast_input += f\">{seq['protein_id']}\\n\"\n",
        "    return blast_input\n",
        "\n",
        "#blast_input = format_blast_input(sequences)\n",
        "#print(\"Formatted BLAST Input:\")\n",
        "#print(blast_input)"
      ],
      "metadata": {
        "id": "QLSZZAKfb9gn"
      },
      "execution_count": null,
      "outputs": []
    },
    {
      "cell_type": "markdown",
      "source": [
        "Run BLAST and download the results"
      ],
      "metadata": {
        "id": "qKRDB7jl_jG8"
      }
    },
    {
      "cell_type": "code",
      "source": [
        "import requests\n",
        "\n",
        "def download_file(url, local_filename):\n",
        "    with requests.get(url, stream=True) as r:\n",
        "        r.raise_for_status()\n",
        "        with open(local_filename, 'wb') as f:\n",
        "            for chunk in r.iter_content(chunk_size=8192):\n",
        "                f.write(chunk)\n",
        "    return local_filename\n",
        "\n",
        "def upload_and_download_blast(blast_input, sequences, species, download_dir='/content'):\n",
        "    # Create download directory if it doesn't exist\n",
        "    os.makedirs(download_dir, exist_ok=True)\n",
        "    print(f\"Download directory: {download_dir}\")\n",
        "\n",
        "    # Prompt user for download format\n",
        "    download_format = input(\"Enter download format ('Text' or 'CSV'): \").strip().lower()\n",
        "    if download_format not in [\"text\", \"csv\"]:\n",
        "        print(\"Invalid format selected. Defaulting to 'Text'.\")\n",
        "        download_format = \"text\"\n",
        "\n",
        "    # Prompt user for filename\n",
        "    filename = input(\"Enter the desired filename (without extension): \").strip()\n",
        "\n",
        "    try:\n",
        "        print(\"Initializing Chromedriver\")\n",
        "        driver.get('https://blast.ncbi.nlm.nih.gov/Blast.cgi?PROGRAM=blastp&PAGE_TYPE=BlastSearch&LINK_LOC=blasthome')\n",
        "        print(\"Opened NCBI BLAST page.\")\n",
        "\n",
        "        # Wait for the text area to be present\n",
        "        textarea = WebDriverWait(driver, 20).until(\n",
        "            EC.presence_of_element_located((By.CSS_SELECTOR, 'textarea#seq'))\n",
        "        )\n",
        "        textarea.clear()\n",
        "        textarea.send_keys(blast_input)\n",
        "        print(\"Input BLAST query.\")\n",
        "\n",
        "        if species:\n",
        "            print(f\"Total species to add: {len(species)}\")\n",
        "            # Click 'Add organism' button for each species beyond the first one\n",
        "            for i in range(len(species) - 1):\n",
        "                try:\n",
        "                    add_button = WebDriverWait(driver, 10).until(\n",
        "                        EC.presence_of_element_located((By.XPATH, '//input[@id=\"addOrg\"]'))\n",
        "                    )\n",
        "                    add_button.click()\n",
        "                    print(f\"Clicked 'Add organism' button {i + 1} times.\")\n",
        "                except Exception as e:\n",
        "                    print(f\"Error clicking 'Add organism' button: {e}\")\n",
        "\n",
        "            # Add each species to the respective input fields\n",
        "\n",
        "            species_added = False\n",
        "            for i, taxon_id in enumerate(species):\n",
        "                print(f\"Adding organism with taxon ID {taxon_id}\")\n",
        "\n",
        "                try:\n",
        "                    organism_input_id = f'qorganism{i}' if i > 0 else 'qorganism'\n",
        "                    print(f\"Attempting to add organism with taxon ID {taxon_id} to input field {organism_input_id}\")\n",
        "                    organism_input = WebDriverWait(driver, 10).until(\n",
        "                        EC.presence_of_element_located((By.CSS_SELECTOR, f'input#{organism_input_id}'))\n",
        "                    )\n",
        "                    organism_input.clear()\n",
        "                    organism_input.send_keys(taxon_id)\n",
        "                    print(f\"Typed taxon ID {taxon_id} into input field {organism_input_id}\")\n",
        "\n",
        "                    # Wait for the dropdown to update\n",
        "                    print(\"Waiting for dropdown to update...\")\n",
        "                    dropdown_option = WebDriverWait(driver, 10).until(\n",
        "                        EC.presence_of_element_located((By.XPATH, f'//li[contains(@valueid, \"{taxon_id}\")]'))\n",
        "                    )\n",
        "                    dropdown_option.click()\n",
        "                    print(f\"Selected dropdown option for taxon ID {taxon_id}\")\n",
        "\n",
        "                    species_added = True\n",
        "                except Exception as e:\n",
        "                    print(f\"Error adding organism with taxon ID {taxon_id}: {e}\")\n",
        "\n",
        "            if not species_added:\n",
        "                print(\"No species were successfully added. Proceeding without species restriction.\")\n",
        "        else:\n",
        "            print(\"No species provided. Proceeding without species restriction.\")\n",
        "\n",
        "        # Set query subranges\n",
        "        for i, seq in enumerate(sequences):\n",
        "            if seq[\"start\"] is not None and seq[\"end\"] is not None:\n",
        "                try:\n",
        "                    query_from = WebDriverWait(driver, 10).until(\n",
        "                        EC.presence_of_element_located((By.NAME, f'QUERY_FROM'))\n",
        "                    )\n",
        "                    query_to = WebDriverWait(driver, 10).until(\n",
        "                        EC.presence_of_element_located((By.NAME, f'QUERY_TO'))\n",
        "                    )\n",
        "                    query_from.clear()\n",
        "                    query_from.send_keys(str(seq[\"start\"]))\n",
        "                    query_to.clear()\n",
        "                    query_to.send_keys(str(seq[\"end\"]))\n",
        "                    print(f\"Set query range for sequence {i + 1}: {seq['start']}-{seq['end']}.\")\n",
        "                except Exception as e:\n",
        "                    print(f\"Error setting range for sequence {i + 1}: {e}\")\n",
        "\n",
        "        # Click the BLAST button to submit the query\n",
        "        try:\n",
        "            blast_button = WebDriverWait(driver, 10).until(\n",
        "                EC.presence_of_element_located((By.XPATH, '//input[@value=\"BLAST\"]'))\n",
        "            )\n",
        "            blast_button.click()\n",
        "            print(\"Clicked the BLAST button.\")\n",
        "        except Exception as e:\n",
        "            print(f\"Error clicking the BLAST button: {e}\")\n",
        "\n",
        "        # Wait for the results page to load completely\n",
        "        try:\n",
        "            WebDriverWait(driver, 180).until(\n",
        "                EC.presence_of_element_located((By.ID, 'btnDwnld'))\n",
        "            )\n",
        "            print(\"Results page loaded.\")\n",
        "        except Exception as e:\n",
        "            print(f\"Error waiting for the results page: {e}\")\n",
        "\n",
        "        # Click the download button\n",
        "        try:\n",
        "            download_button = WebDriverWait(driver, 10).until(\n",
        "                EC.presence_of_element_located((By.ID, 'btnDwnld'))\n",
        "            )\n",
        "            download_button.click()\n",
        "            print(\"Clicked the download button.\")\n",
        "        except Exception as e:\n",
        "            print(f\"Error clicking the download button: {e}\")\n",
        "\n",
        "        # Get the download URL for the selected format\n",
        "        try:\n",
        "            if download_format == \"text\":\n",
        "                format_option = WebDriverWait(driver, 10).until(\n",
        "                    EC.presence_of_element_located((By.ID, 'dwText'))\n",
        "                )\n",
        "            else:  # CSV\n",
        "                format_option = WebDriverWait(driver, 10).until(\n",
        "                    EC.presence_of_element_located((By.ID, 'dwDescrCsv'))\n",
        "                )\n",
        "\n",
        "            download_url = format_option.get_attribute('url')\n",
        "            print(f\"Download URL for {download_format} format:\", download_url)\n",
        "        except Exception as e:\n",
        "            print(f\"Error selecting '{download_format}' format: {e}\")\n",
        "\n",
        "        # Download the file using the URL\n",
        "        try:\n",
        "            local_filename = os.path.join(download_dir, f\"{filename}.{download_format}\")\n",
        "            download_file(f\"https://blast.ncbi.nlm.nih.gov/{download_url}\", local_filename)\n",
        "            print(f\"BLAST results downloaded to {local_filename}\")\n",
        "\n",
        "            # Open the downloaded file\n",
        "            with open(local_filename, 'r') as file:\n",
        "                print(file.read())\n",
        "        except Exception as e:\n",
        "            print(f\"Error downloading the file: {e}\")\n",
        "\n",
        "    except Exception as e:\n",
        "        print(f\"An error occurred: {e}\")\n",
        "    finally:\n",
        "        driver.quit()\n",
        "\n",
        "# Ensure the WebDriver instance is initialized correctly\n",
        "print(\"Reinitializing Chromedriver...\")\n",
        "\n",
        "try:\n",
        "    driver = gs.Chrome()  # Reinitialize the WebDriver instance\n",
        "    print(\"Chromedriver reinitialized successfully.\")\n",
        "except Exception as e:\n",
        "    print(f\"Failed to initialize Chromedriver: {e}\")\n"
      ],
      "metadata": {
        "id": "Jo5XwDpA_lwY",
        "colab": {
          "base_uri": "https://localhost:8080/",
          "height": 74
        },
        "outputId": "0f44ec2e-a154-4f83-9a7d-15bc0bea75ef"
      },
      "execution_count": null,
      "outputs": [
        {
          "output_type": "stream",
          "name": "stdout",
          "text": [
            "Reinitializing Chromedriver...\n"
          ]
        },
        {
          "output_type": "display_data",
          "data": {
            "text/plain": [
              "<IPython.core.display.HTML object>"
            ],
            "text/html": [
              "\n",
              "            <div class=\"spinner-container\">\n",
              "                <div class=\"spinner\" id=\"9b0a8805-4ea5-46c8-be34-0c47fbc631ae-circle\"></div>\n",
              "                <div class=\"spinner-text\" id=\"9b0a8805-4ea5-46c8-be34-0c47fbc631ae-text\">Initializing Chromedriver</div>\n",
              "            </div>\n",
              "            <style>\n",
              "                @keyframes spin {\n",
              "                    from { transform: rotate(0deg); }\n",
              "                    to { transform: rotate(360deg); }\n",
              "                }\n",
              "\n",
              "                .spinner-container {\n",
              "                    display: flex;\n",
              "                    align-items: center;\n",
              "                    margin-bottom: 3px;\n",
              "                }\n",
              "\n",
              "                .spinner {\n",
              "                    border: 3px solid rgba(0, 0, 0, 0.1);\n",
              "                    border-left-color: lightblue;\n",
              "                    border-radius: 50%;\n",
              "                    width: 12px;\n",
              "                    height: 12px;\n",
              "                    animation: spin 1s linear infinite;\n",
              "                }\n",
              "\n",
              "                .spinner-text {\n",
              "                    padding-left: 6px;\n",
              "                }\n",
              "            </style>\n",
              "        "
            ]
          },
          "metadata": {}
        },
        {
          "output_type": "display_data",
          "data": {
            "text/plain": [
              "<IPython.core.display.Javascript object>"
            ],
            "application/javascript": [
              "\n",
              "            const element = document.getElementById(\"9b0a8805-4ea5-46c8-be34-0c47fbc631ae-circle\");\n",
              "            element.style.border = \"3px solid limegreen\";\n",
              "            element.style.animation = \"none\";\n",
              "\n",
              "            const text = document.getElementById(\"9b0a8805-4ea5-46c8-be34-0c47fbc631ae-text\");\n",
              "            text.innerText = \"Initialized Chromedriver\";\n",
              "        "
            ]
          },
          "metadata": {}
        },
        {
          "output_type": "stream",
          "name": "stdout",
          "text": [
            "Chromedriver reinitialized successfully.\n"
          ]
        }
      ]
    },
    {
      "cell_type": "markdown",
      "source": [
        "Mount your Google Drive for the download folder."
      ],
      "metadata": {
        "id": "MtFKs2ABmwmS"
      }
    },
    {
      "cell_type": "code",
      "source": [
        "from google.colab import drive\n",
        "drive.mount('/content/drive')"
      ],
      "metadata": {
        "colab": {
          "base_uri": "https://localhost:8080/"
        },
        "id": "mGQzgVAEmvoY",
        "outputId": "55ece6b9-33e5-4063-d4b8-4e40114fa331"
      },
      "execution_count": null,
      "outputs": [
        {
          "output_type": "stream",
          "name": "stdout",
          "text": [
            "Mounted at /content/drive\n"
          ]
        }
      ]
    },
    {
      "cell_type": "code",
      "source": [
        "# Ensure the WebDriver instance is initialized correctly\n",
        "print(\"Reinitializing Chromedriver...\")\n",
        "\n",
        "try:\n",
        "    driver = gs.Chrome()  # Reinitialize the WebDriver instance\n",
        "    print(\"Chromedriver reinitialized successfully.\")\n",
        "except Exception as e:\n",
        "    print(f\"Failed to initialize Chromedriver: {e}\")"
      ],
      "metadata": {
        "colab": {
          "base_uri": "https://localhost:8080/",
          "height": 74
        },
        "id": "9uORLLywuWqs",
        "outputId": "647c659b-8985-4bec-ce76-da8919de8d61"
      },
      "execution_count": null,
      "outputs": [
        {
          "output_type": "stream",
          "name": "stdout",
          "text": [
            "Reinitializing Chromedriver...\n"
          ]
        },
        {
          "output_type": "display_data",
          "data": {
            "text/plain": [
              "<IPython.core.display.HTML object>"
            ],
            "text/html": [
              "\n",
              "            <div class=\"spinner-container\">\n",
              "                <div class=\"spinner\" id=\"90d914b8-a380-47b3-8728-60b6f51ec980-circle\"></div>\n",
              "                <div class=\"spinner-text\" id=\"90d914b8-a380-47b3-8728-60b6f51ec980-text\">Initializing Chromedriver</div>\n",
              "            </div>\n",
              "            <style>\n",
              "                @keyframes spin {\n",
              "                    from { transform: rotate(0deg); }\n",
              "                    to { transform: rotate(360deg); }\n",
              "                }\n",
              "\n",
              "                .spinner-container {\n",
              "                    display: flex;\n",
              "                    align-items: center;\n",
              "                    margin-bottom: 3px;\n",
              "                }\n",
              "\n",
              "                .spinner {\n",
              "                    border: 3px solid rgba(0, 0, 0, 0.1);\n",
              "                    border-left-color: lightblue;\n",
              "                    border-radius: 50%;\n",
              "                    width: 12px;\n",
              "                    height: 12px;\n",
              "                    animation: spin 1s linear infinite;\n",
              "                }\n",
              "\n",
              "                .spinner-text {\n",
              "                    padding-left: 6px;\n",
              "                }\n",
              "            </style>\n",
              "        "
            ]
          },
          "metadata": {}
        },
        {
          "output_type": "display_data",
          "data": {
            "text/plain": [
              "<IPython.core.display.Javascript object>"
            ],
            "application/javascript": [
              "\n",
              "            const element = document.getElementById(\"90d914b8-a380-47b3-8728-60b6f51ec980-circle\");\n",
              "            element.style.border = \"3px solid limegreen\";\n",
              "            element.style.animation = \"none\";\n",
              "\n",
              "            const text = document.getElementById(\"90d914b8-a380-47b3-8728-60b6f51ec980-text\");\n",
              "            text.innerText = \"Initialized Chromedriver\";\n",
              "        "
            ]
          },
          "metadata": {}
        },
        {
          "output_type": "stream",
          "name": "stdout",
          "text": [
            "Chromedriver reinitialized successfully.\n"
          ]
        }
      ]
    },
    {
      "cell_type": "code",
      "source": [
        "# Main execution\n",
        "print(\"Reading and parsing file...\")\n",
        "sequences, species = read_and_parse_file()\n",
        "species_of_interest = input(\"Enter the species of your protein of interest (e.g., human, mouse, or your model species): \").strip()\n",
        "print(\"Processing sequences...\")\n",
        "process_sequences(sequences, species_of_interest)\n",
        "blast_input = format_blast_input(sequences)\n",
        "print(\"Formatted BLAST Input:\")\n",
        "print(blast_input)\n",
        "\n",
        "# Call the function to upload and download BLAST\n",
        "upload_and_download_blast(blast_input, sequences, species)"
      ],
      "metadata": {
        "colab": {
          "base_uri": "https://localhost:8080/",
          "height": 1000
        },
        "id": "MpmxOdQ8mSms",
        "outputId": "4e0a7638-f900-4288-f6ca-aaa592d4e500"
      },
      "execution_count": null,
      "outputs": [
        {
          "output_type": "stream",
          "name": "stdout",
          "text": [
            "Reading and parsing file...\n"
          ]
        },
        {
          "output_type": "display_data",
          "data": {
            "text/plain": [
              "<IPython.core.display.HTML object>"
            ],
            "text/html": [
              "\n",
              "     <input type=\"file\" id=\"files-d70d7a56-a823-481d-9da0-7c76f5ee82ce\" name=\"files[]\" multiple disabled\n",
              "        style=\"border:none\" />\n",
              "     <output id=\"result-d70d7a56-a823-481d-9da0-7c76f5ee82ce\">\n",
              "      Upload widget is only available when the cell has been executed in the\n",
              "      current browser session. Please rerun this cell to enable.\n",
              "      </output>\n",
              "      <script>// Copyright 2017 Google LLC\n",
              "//\n",
              "// Licensed under the Apache License, Version 2.0 (the \"License\");\n",
              "// you may not use this file except in compliance with the License.\n",
              "// You may obtain a copy of the License at\n",
              "//\n",
              "//      http://www.apache.org/licenses/LICENSE-2.0\n",
              "//\n",
              "// Unless required by applicable law or agreed to in writing, software\n",
              "// distributed under the License is distributed on an \"AS IS\" BASIS,\n",
              "// WITHOUT WARRANTIES OR CONDITIONS OF ANY KIND, either express or implied.\n",
              "// See the License for the specific language governing permissions and\n",
              "// limitations under the License.\n",
              "\n",
              "/**\n",
              " * @fileoverview Helpers for google.colab Python module.\n",
              " */\n",
              "(function(scope) {\n",
              "function span(text, styleAttributes = {}) {\n",
              "  const element = document.createElement('span');\n",
              "  element.textContent = text;\n",
              "  for (const key of Object.keys(styleAttributes)) {\n",
              "    element.style[key] = styleAttributes[key];\n",
              "  }\n",
              "  return element;\n",
              "}\n",
              "\n",
              "// Max number of bytes which will be uploaded at a time.\n",
              "const MAX_PAYLOAD_SIZE = 100 * 1024;\n",
              "\n",
              "function _uploadFiles(inputId, outputId) {\n",
              "  const steps = uploadFilesStep(inputId, outputId);\n",
              "  const outputElement = document.getElementById(outputId);\n",
              "  // Cache steps on the outputElement to make it available for the next call\n",
              "  // to uploadFilesContinue from Python.\n",
              "  outputElement.steps = steps;\n",
              "\n",
              "  return _uploadFilesContinue(outputId);\n",
              "}\n",
              "\n",
              "// This is roughly an async generator (not supported in the browser yet),\n",
              "// where there are multiple asynchronous steps and the Python side is going\n",
              "// to poll for completion of each step.\n",
              "// This uses a Promise to block the python side on completion of each step,\n",
              "// then passes the result of the previous step as the input to the next step.\n",
              "function _uploadFilesContinue(outputId) {\n",
              "  const outputElement = document.getElementById(outputId);\n",
              "  const steps = outputElement.steps;\n",
              "\n",
              "  const next = steps.next(outputElement.lastPromiseValue);\n",
              "  return Promise.resolve(next.value.promise).then((value) => {\n",
              "    // Cache the last promise value to make it available to the next\n",
              "    // step of the generator.\n",
              "    outputElement.lastPromiseValue = value;\n",
              "    return next.value.response;\n",
              "  });\n",
              "}\n",
              "\n",
              "/**\n",
              " * Generator function which is called between each async step of the upload\n",
              " * process.\n",
              " * @param {string} inputId Element ID of the input file picker element.\n",
              " * @param {string} outputId Element ID of the output display.\n",
              " * @return {!Iterable<!Object>} Iterable of next steps.\n",
              " */\n",
              "function* uploadFilesStep(inputId, outputId) {\n",
              "  const inputElement = document.getElementById(inputId);\n",
              "  inputElement.disabled = false;\n",
              "\n",
              "  const outputElement = document.getElementById(outputId);\n",
              "  outputElement.innerHTML = '';\n",
              "\n",
              "  const pickedPromise = new Promise((resolve) => {\n",
              "    inputElement.addEventListener('change', (e) => {\n",
              "      resolve(e.target.files);\n",
              "    });\n",
              "  });\n",
              "\n",
              "  const cancel = document.createElement('button');\n",
              "  inputElement.parentElement.appendChild(cancel);\n",
              "  cancel.textContent = 'Cancel upload';\n",
              "  const cancelPromise = new Promise((resolve) => {\n",
              "    cancel.onclick = () => {\n",
              "      resolve(null);\n",
              "    };\n",
              "  });\n",
              "\n",
              "  // Wait for the user to pick the files.\n",
              "  const files = yield {\n",
              "    promise: Promise.race([pickedPromise, cancelPromise]),\n",
              "    response: {\n",
              "      action: 'starting',\n",
              "    }\n",
              "  };\n",
              "\n",
              "  cancel.remove();\n",
              "\n",
              "  // Disable the input element since further picks are not allowed.\n",
              "  inputElement.disabled = true;\n",
              "\n",
              "  if (!files) {\n",
              "    return {\n",
              "      response: {\n",
              "        action: 'complete',\n",
              "      }\n",
              "    };\n",
              "  }\n",
              "\n",
              "  for (const file of files) {\n",
              "    const li = document.createElement('li');\n",
              "    li.append(span(file.name, {fontWeight: 'bold'}));\n",
              "    li.append(span(\n",
              "        `(${file.type || 'n/a'}) - ${file.size} bytes, ` +\n",
              "        `last modified: ${\n",
              "            file.lastModifiedDate ? file.lastModifiedDate.toLocaleDateString() :\n",
              "                                    'n/a'} - `));\n",
              "    const percent = span('0% done');\n",
              "    li.appendChild(percent);\n",
              "\n",
              "    outputElement.appendChild(li);\n",
              "\n",
              "    const fileDataPromise = new Promise((resolve) => {\n",
              "      const reader = new FileReader();\n",
              "      reader.onload = (e) => {\n",
              "        resolve(e.target.result);\n",
              "      };\n",
              "      reader.readAsArrayBuffer(file);\n",
              "    });\n",
              "    // Wait for the data to be ready.\n",
              "    let fileData = yield {\n",
              "      promise: fileDataPromise,\n",
              "      response: {\n",
              "        action: 'continue',\n",
              "      }\n",
              "    };\n",
              "\n",
              "    // Use a chunked sending to avoid message size limits. See b/62115660.\n",
              "    let position = 0;\n",
              "    do {\n",
              "      const length = Math.min(fileData.byteLength - position, MAX_PAYLOAD_SIZE);\n",
              "      const chunk = new Uint8Array(fileData, position, length);\n",
              "      position += length;\n",
              "\n",
              "      const base64 = btoa(String.fromCharCode.apply(null, chunk));\n",
              "      yield {\n",
              "        response: {\n",
              "          action: 'append',\n",
              "          file: file.name,\n",
              "          data: base64,\n",
              "        },\n",
              "      };\n",
              "\n",
              "      let percentDone = fileData.byteLength === 0 ?\n",
              "          100 :\n",
              "          Math.round((position / fileData.byteLength) * 100);\n",
              "      percent.textContent = `${percentDone}% done`;\n",
              "\n",
              "    } while (position < fileData.byteLength);\n",
              "  }\n",
              "\n",
              "  // All done.\n",
              "  yield {\n",
              "    response: {\n",
              "      action: 'complete',\n",
              "    }\n",
              "  };\n",
              "}\n",
              "\n",
              "scope.google = scope.google || {};\n",
              "scope.google.colab = scope.google.colab || {};\n",
              "scope.google.colab._files = {\n",
              "  _uploadFiles,\n",
              "  _uploadFilesContinue,\n",
              "};\n",
              "})(self);\n",
              "</script> "
            ]
          },
          "metadata": {}
        },
        {
          "output_type": "stream",
          "name": "stdout",
          "text": [
            "Saving selenium blast template 2.txt to selenium blast template 2 (9).txt\n",
            "Parsed line: Neuromedin B [1-121]\n",
            "Sequences extracted: [{'protein': 'Neuromedin B', 'start': 1, 'end': 121}]\n",
            "Received taxon ID: 9606\n",
            "Received taxon ID: 9598\n",
            "Received taxon ID: 9597\n",
            "Enter the species of your protein of interest (e.g., human, mouse, or your model species): human\n",
            "Processing sequences...\n",
            "Sequences to analyze:\n",
            "Processing sequence: Neuromedin B\n",
            "Searching for protein: Neuromedin B in species: human\n",
            "Search results: {'Count': '58', 'RetMax': '20', 'RetStart': '0', 'IdList': ['1024249356', '45505145', '45505143', '7669548', '308153451', '281185514', '212286370', '128364', '2689118640', '1024249354', '161484640', '295849290', '7019577', '2670404010', '2462544319', '2462498614', '1034590777', '2559883241', '2447595853', '2227338031'], 'TranslationSet': [{'From': 'Neuromedin B', 'To': 'Neuromedin B[Protein Name] OR (Neuromedin[All Fields] AND B[All Fields])'}, {'From': 'human[Organism]', 'To': '\"Homo sapiens\"[Organism]'}], 'TranslationStack': [{'Term': 'Neuromedin B[Protein Name]', 'Field': 'Protein Name', 'Count': '295', 'Explode': 'N'}, {'Term': 'Neuromedin[All Fields]', 'Field': 'All Fields', 'Count': '4658', 'Explode': 'N'}, {'Term': 'B[All Fields]', 'Field': 'All Fields', 'Count': '31318511', 'Explode': 'N'}, 'AND', 'GROUP', 'OR', 'GROUP', {'Term': '\"Homo sapiens\"[Organism]', 'Field': 'Organism', 'Count': '1959971', 'Explode': 'Y'}, 'AND'], 'QueryTranslation': '(Neuromedin B[Protein Name] OR (Neuromedin[All Fields] AND B[All Fields])) AND \"Homo sapiens\"[Organism]'}\n",
            "Fetch results: >NP_001311237.1 neuromedin-B receptor isoform b precursor [Homo sapiens]\n",
            "MDMQTSGALLRTCVKAMGIWVVSVLLAVPEAVFSEVARISSLDNSSFTACIPYPQTDELHPKIHSVLIFL\n",
            "VYFLIPLAIISIYYYHIAKTLIKSAHNLPGEYNEHTKKQMETRKRLAKIVLVFVGCFIFCWFPNHILYMY\n",
            "RSFNYNEIDPSLGHMIVTLVARVLSFGNSCVNPFALYLLSESFRRHFNSQLCCGRKSYQERGTSYLLSSS\n",
            "AVRMTSLKSNAKNMVTNSVLLNGHSMKQEMAL\n",
            "\n",
            "\n",
            "Neuromedin B reconfigured to NP_001311237.1 based on Entrez results\n",
            "Formatted BLAST Input:\n",
            ">NP_001311237.1 neuromedin-B receptor isoform b precursor [Homo sapiens]\n",
            "MDMQTSGALLRTCVKAMGIWVVSVLLAVPEAVFSEVARISSLDNSSFTACIPYPQTDELHPKIHSVLIFL\n",
            "VYFLIPLAIISIYYYHIAKTLIKSAHNLPGEYNEHTKKQMETRKRLAKIVLVFVGCFIFCWFPNHILYMY\n",
            "RSFNYNEIDPSLGHMIVTLVARVLSFGNSCVNPFALYLLSESFRRHFNSQLCCGRKSYQERGTSYLLSSS\n",
            "AVRMTSLKSNAKNMVTNSVLLNGHSMKQEMAL\n",
            "\n",
            "\n",
            "\n",
            "Download directory: /content\n",
            "Enter download format ('Text' or 'CSV'): CSV\n",
            "Enter the desired filename (without extension): neuromedin-b_HumanChimpanzeeBonobo\n",
            "Initializing Chromedriver\n",
            "Opened NCBI BLAST page.\n",
            "Input BLAST query.\n",
            "Total species to add: 3\n",
            "Clicked 'Add organism' button 1 times.\n",
            "Clicked 'Add organism' button 2 times.\n",
            "Adding organism with taxon ID 9606\n",
            "Attempting to add organism with taxon ID 9606 to input field qorganism\n",
            "Typed taxon ID 9606 into input field qorganism\n",
            "Waiting for dropdown to update...\n",
            "Selected dropdown option for taxon ID 9606\n",
            "Adding organism with taxon ID 9598\n",
            "Attempting to add organism with taxon ID 9598 to input field qorganism1\n",
            "Typed taxon ID 9598 into input field qorganism1\n",
            "Waiting for dropdown to update...\n",
            "Selected dropdown option for taxon ID 9598\n",
            "Adding organism with taxon ID 9597\n",
            "Attempting to add organism with taxon ID 9597 to input field qorganism2\n",
            "Typed taxon ID 9597 into input field qorganism2\n",
            "Waiting for dropdown to update...\n",
            "Selected dropdown option for taxon ID 9597\n",
            "Set query range for sequence 1: 1-121.\n",
            "Clicked the BLAST button.\n",
            "Results page loaded.\n",
            "Clicked the download button.\n",
            "Download URL for csv format: Blast.cgi?RESULTS_FILE=on&RID=78S39CGY013&FORMAT_TYPE=CSV&DESCRIPTIONS=100&FORMAT_OBJECT=Alignment&QUERY_INDEX=0&DOWNLOAD_TEMPL=Results&CMD=Get\n",
            "BLAST results downloaded to /content/neuromedin-b_HumanChimpanzeeBonobo.csv\n",
            "Description,Scientific Name,Common Name,Taxid,Max Score,Total Score,Query Cover,E value,Per. ident,Acc. Len,Accession  \n",
            "neuromedin-B receptor isoform b precursor [Homo sapiens],Homo sapiens,human,9606,250,250,100%,8e-85,100.00,242,\"=HYPERLINK(\"\"https://www.ncbi.nlm.nih.gov/protein/NP_001311236.1?report=genbank&log$=prottop&blast_rank=1&RID=78S39CGY013\"\",\"\"NP_001311236.1\"\")\"\n",
            "neuromedin-B receptor isoform X4 [Pan paniscus],Pan paniscus,pygmy chimpanzee,9597,246,246,100%,3e-83,98.35,242,\"=HYPERLINK(\"\"https://www.ncbi.nlm.nih.gov/protein/XP_034818854.1?report=genbank&log$=prottop&blast_rank=2&RID=78S39CGY013\"\",\"\"XP_034818854.1\"\")\"\n",
            "neuromedin B receptor [Homo sapiens],Homo sapiens,human,9606,251,251,100%,5e-83,100.00,390,\"=HYPERLINK(\"\"https://www.ncbi.nlm.nih.gov/protein/AAA59939.1?report=genbank&log$=prottop&blast_rank=3&RID=78S39CGY013\"\",\"\"AAA59939.1\"\")\"\n",
            "\"Chain R, Neuromedin-B receptor [Homo sapiens]\",Homo sapiens,human,9606,251,251,100%,5e-83,100.00,390,\"=HYPERLINK(\"\"https://www.ncbi.nlm.nih.gov/protein/8H0P_R?report=genbank&log$=prottop&blast_rank=4&RID=78S39CGY013\"\",\"\"8H0P_R\"\")\"\n",
            "neuromedin-B receptor isoform a [Homo sapiens],Homo sapiens,human,9606,251,251,100%,5e-83,100.00,390,\"=HYPERLINK(\"\"https://www.ncbi.nlm.nih.gov/protein/NP_002502.2?report=genbank&log$=prottop&blast_rank=5&RID=78S39CGY013\"\",\"\"NP_002502.2\"\")\"\n",
            "neuromedin-B receptor isoform X1 [Pan troglodytes],Pan troglodytes,chimpanzee,9598,245,245,100%,1e-82,97.52,242,\"=HYPERLINK(\"\"https://www.ncbi.nlm.nih.gov/protein/XP_016811883.2?report=genbank&log$=prottop&blast_rank=6&RID=78S39CGY013\"\",\"\"XP_016811883.2\"\")\"\n",
            "Neuromedin B receptor [Homo sapiens],Homo sapiens,human,9606,248,248,100%,9e-82,99.17,390,\"=HYPERLINK(\"\"https://www.ncbi.nlm.nih.gov/protein/AAH95542.1?report=genbank&log$=prottop&blast_rank=7&RID=78S39CGY013\"\",\"\"AAH95542.1\"\")\"\n",
            "neuromedin-B receptor isoform X3 [Pan paniscus],Pan paniscus,pygmy chimpanzee,9597,245,245,100%,2e-81,98.35,345,\"=HYPERLINK(\"\"https://www.ncbi.nlm.nih.gov/protein/XP_024784926.4?report=genbank&log$=prottop&blast_rank=8&RID=78S39CGY013\"\",\"\"XP_024784926.4\"\")\"\n",
            "neuromedin-B receptor isoform X2 [Pan paniscus],Pan paniscus,pygmy chimpanzee,9597,246,246,100%,2e-81,98.35,360,\"=HYPERLINK(\"\"https://www.ncbi.nlm.nih.gov/protein/XP_054970137.1?report=genbank&log$=prottop&blast_rank=9&RID=78S39CGY013\"\",\"\"XP_054970137.1\"\")\"\n",
            "neuromedin-B receptor isoform X2 [Pan troglodytes],Pan troglodytes,chimpanzee,9598,244,244,100%,2e-81,97.52,301,\"=HYPERLINK(\"\"https://www.ncbi.nlm.nih.gov/protein/XP_016811882.2?report=genbank&log$=prottop&blast_rank=10&RID=78S39CGY013\"\",\"\"XP_016811882.2\"\")\"\n",
            "NMBR isoform 1 [Pan troglodytes],Pan troglodytes,chimpanzee,9598,247,247,100%,2e-81,98.35,390,\"=HYPERLINK(\"\"https://www.ncbi.nlm.nih.gov/protein/PNI86959.1?report=genbank&log$=prottop&blast_rank=11&RID=78S39CGY013\"\",\"\"PNI86959.1\"\")\"\n",
            "neuromedin-B receptor isoform X1 [Pan paniscus],Pan paniscus,pygmy chimpanzee,9597,246,246,100%,2e-81,98.35,390,\"=HYPERLINK(\"\"https://www.ncbi.nlm.nih.gov/protein/XP_003827761.1?report=genbank&log$=prottop&blast_rank=12&RID=78S39CGY013\"\",\"\"XP_003827761.1\"\")\"\n",
            "neuromedin-B receptor isoform X3 [Pan troglodytes],Pan troglodytes,chimpanzee,9598,245,245,100%,7e-81,97.52,390,\"=HYPERLINK(\"\"https://www.ncbi.nlm.nih.gov/protein/XP_527520.4?report=genbank&log$=prottop&blast_rank=13&RID=78S39CGY013\"\",\"\"XP_527520.4\"\")\"\n",
            "gastrin-releasing peptide receptor isoform X2 [Pan paniscus],Pan paniscus,pygmy chimpanzee,9597,150,150,100%,5e-44,59.02,384,\"=HYPERLINK(\"\"https://www.ncbi.nlm.nih.gov/protein/XP_003805404.1?report=genbank&log$=prottop&blast_rank=14&RID=78S39CGY013\"\",\"\"XP_003805404.1\"\")\"\n",
            "gastrin-releasing peptide receptor isoform X3 [Pan troglodytes],Pan troglodytes,chimpanzee,9598,150,150,100%,5e-44,59.02,384,\"=HYPERLINK(\"\"https://www.ncbi.nlm.nih.gov/protein/XP_520952.2?report=genbank&log$=prottop&blast_rank=15&RID=78S39CGY013\"\",\"\"XP_520952.2\"\")\"\n",
            "gastrin-releasing peptide receptor [Homo sapiens],Homo sapiens,human,9606,150,150,100%,5e-44,59.02,384,\"=HYPERLINK(\"\"https://www.ncbi.nlm.nih.gov/protein/NP_005305.1?report=genbank&log$=prottop&blast_rank=16&RID=78S39CGY013\"\",\"\"NP_005305.1\"\")\"\n",
            "\"Chain R, Gastrin-releasing peptide receptor [Homo sapiens]\",Homo sapiens,human,9606,150,150,100%,5e-44,59.02,384,\"=HYPERLINK(\"\"https://www.ncbi.nlm.nih.gov/protein/8H0Q_R?report=genbank&log$=prottop&blast_rank=17&RID=78S39CGY013\"\",\"\"8H0Q_R\"\")\"\n",
            "gastrin-releasing peptide receptor isoform X2 [Pan troglodytes],Pan troglodytes,chimpanzee,9598,150,150,100%,6e-44,59.02,392,\"=HYPERLINK(\"\"https://www.ncbi.nlm.nih.gov/protein/XP_054532338.1?report=genbank&log$=prottop&blast_rank=18&RID=78S39CGY013\"\",\"\"XP_054532338.1\"\")\"\n",
            "gastrin-releasing peptide receptor isoform X1 [Pan paniscus],Pan paniscus,pygmy chimpanzee,9597,150,150,100%,2e-43,59.02,443,\"=HYPERLINK(\"\"https://www.ncbi.nlm.nih.gov/protein/XP_063457969.1?report=genbank&log$=prottop&blast_rank=19&RID=78S39CGY013\"\",\"\"XP_063457969.1\"\")\"\n",
            "gastrin-releasing peptide receptor isoform X1 [Pan troglodytes],Pan troglodytes,chimpanzee,9598,150,150,100%,2e-43,59.02,443,\"=HYPERLINK(\"\"https://www.ncbi.nlm.nih.gov/protein/XP_016799489.1?report=genbank&log$=prottop&blast_rank=20&RID=78S39CGY013\"\",\"\"XP_016799489.1\"\")\"\n",
            "bombesin receptor subtype-3 [Pan troglodytes],Pan troglodytes,chimpanzee,9598,124,124,100%,9e-34,48.36,399,\"=HYPERLINK(\"\"https://www.ncbi.nlm.nih.gov/protein/XP_001137541.1?report=genbank&log$=prottop&blast_rank=21&RID=78S39CGY013\"\",\"\"XP_001137541.1\"\")\"\n",
            "bombesin receptor subtype-3 [Homo sapiens],Homo sapiens,human,9606,124,124,100%,1e-33,48.36,399,\"=HYPERLINK(\"\"https://www.ncbi.nlm.nih.gov/protein/NP_001718.1?report=genbank&log$=prottop&blast_rank=22&RID=78S39CGY013\"\",\"\"NP_001718.1\"\")\"\n",
            "\"Chain A, Orexin receptor type 1 [Homo sapiens]\",Homo sapiens,human,9606,55.1,55.1,86%,1e-08,29.63,336,\"=HYPERLINK(\"\"https://www.ncbi.nlm.nih.gov/protein/6TO7_A?report=genbank&log$=prottop&blast_rank=23&RID=78S39CGY013\"\",\"\"6TO7_A\"\")\"\n",
            "\"Chain A, Orexin receptor type 1 [Homo sapiens]\",Homo sapiens,human,9606,55.1,55.1,86%,1e-08,29.63,336,\"=HYPERLINK(\"\"https://www.ncbi.nlm.nih.gov/protein/6TOD_A?report=genbank&log$=prottop&blast_rank=24&RID=78S39CGY013\"\",\"\"6TOD_A\"\")\"\n",
            "\"Chain R, Hypocretin receptor type 2 [Homo sapiens]\",Homo sapiens,human,9606,49.7,49.7,85%,1e-06,28.30,374,\"=HYPERLINK(\"\"https://www.ncbi.nlm.nih.gov/protein/7L1U_R?report=genbank&log$=prottop&blast_rank=25&RID=78S39CGY013\"\",\"\"7L1U_R\"\")\"\n",
            "\"Chain R, Endothelin receptor type B,Endothelin receptor type B,Oplophorus-luciferin 2-monooxygenase catalytic subunit chimera [Homo sapiens]\",Homo sapiens,human,9606,48.9,48.9,90%,2e-06,28.07,603,\"=HYPERLINK(\"\"https://www.ncbi.nlm.nih.gov/protein/8HBD_R?report=genbank&log$=prottop&blast_rank=26&RID=78S39CGY013\"\",\"\"8HBD_R\"\")\"\n",
            "\"Chain R, Endothelin type B receptor [Homo sapiens]\",Homo sapiens,human,9606,48.9,48.9,90%,2e-06,28.07,609,\"=HYPERLINK(\"\"https://www.ncbi.nlm.nih.gov/protein/8IY5_R?report=genbank&log$=prottop&blast_rank=27&RID=78S39CGY013\"\",\"\"8IY5_R\"\")\"\n",
            "\"hypocretin (orexin) receptor 1, isoform CRA_b [Homo sapiens]\",Homo sapiens,human,9606,48.5,48.5,85%,2e-06,27.36,283,\"=HYPERLINK(\"\"https://www.ncbi.nlm.nih.gov/protein/EAX07601.1?report=genbank&log$=prottop&blast_rank=28&RID=78S39CGY013\"\",\"\"EAX07601.1\"\")\"\n",
            "unnamed protein product [Homo sapiens],Homo sapiens,human,9606,48.5,48.5,90%,3e-06,28.07,442,\"=HYPERLINK(\"\"https://www.ncbi.nlm.nih.gov/protein/BAF83388.1?report=genbank&log$=prottop&blast_rank=29&RID=78S39CGY013\"\",\"\"BAF83388.1\"\")\"\n",
            "endothelin receptor type B isoform 1 precursor [Homo sapiens],Homo sapiens,human,9606,48.5,48.5,90%,3e-06,28.07,442,\"=HYPERLINK(\"\"https://www.ncbi.nlm.nih.gov/protein/NP_000106.1?report=genbank&log$=prottop&blast_rank=30&RID=78S39CGY013\"\",\"\"NP_000106.1\"\")\"\n",
            "endothelin receptor type B [Homo sapiens],Homo sapiens,human,9606,48.5,48.5,90%,3e-06,28.07,409,\"=HYPERLINK(\"\"https://www.ncbi.nlm.nih.gov/protein/KAI2569660.1?report=genbank&log$=prottop&blast_rank=31&RID=78S39CGY013\"\",\"\"KAI2569660.1\"\")\"\n",
            "endothelin receptor type B isoform 1 variant [Homo sapiens],Homo sapiens,human,9606,48.5,48.5,90%,3e-06,28.07,459,\"=HYPERLINK(\"\"https://www.ncbi.nlm.nih.gov/protein/BAD92435.1?report=genbank&log$=prottop&blast_rank=32&RID=78S39CGY013\"\",\"\"BAD92435.1\"\")\"\n",
            "ETB endothelin receptor [Homo sapiens],Homo sapiens,human,9606,48.5,48.5,90%,3e-06,28.07,442,\"=HYPERLINK(\"\"https://www.ncbi.nlm.nih.gov/protein/AAB19411.1?report=genbank&log$=prottop&blast_rank=33&RID=78S39CGY013\"\",\"\"AAB19411.1\"\")\"\n",
            "\"endothelin receptor subtype B, ETB [human, prostate stromal cells, Peptide, 442 aa] [Homo sapiens]\",Homo sapiens,human,9606,48.5,48.5,90%,3e-06,28.07,442,\"=HYPERLINK(\"\"https://www.ncbi.nlm.nih.gov/protein/AAB34052.1?report=genbank&log$=prottop&blast_rank=34&RID=78S39CGY013\"\",\"\"AAB34052.1\"\")\"\n",
            "endothelin receptor type B isoform 2 precursor [Homo sapiens],Homo sapiens,human,9606,48.5,48.5,90%,3e-06,28.07,436,\"=HYPERLINK(\"\"https://www.ncbi.nlm.nih.gov/protein/NP_003982.1?report=genbank&log$=prottop&blast_rank=35&RID=78S39CGY013\"\",\"\"NP_003982.1\"\")\"\n",
            "endothelin receptor type B [Pan paniscus],Pan paniscus,pygmy chimpanzee,9597,48.1,48.1,90%,4e-06,28.07,532,\"=HYPERLINK(\"\"https://www.ncbi.nlm.nih.gov/protein/XP_003825301.1?report=genbank&log$=prottop&blast_rank=36&RID=78S39CGY013\"\",\"\"XP_003825301.1\"\")\"\n",
            "orexin/Hypocretin receptor type 1 isoform X2 [Homo sapiens],Homo sapiens,human,9606,48.1,48.1,85%,4e-06,27.36,389,\"=HYPERLINK(\"\"https://www.ncbi.nlm.nih.gov/protein/XP_016856596.1?report=genbank&log$=prottop&blast_rank=37&RID=78S39CGY013\"\",\"\"XP_016856596.1\"\")\"\n",
            "endothelin receptor type B [Pan troglodytes],Pan troglodytes,chimpanzee,9598,48.1,48.1,90%,4e-06,28.07,532,\"=HYPERLINK(\"\"https://www.ncbi.nlm.nih.gov/protein/XP_509693.3?report=genbank&log$=prottop&blast_rank=38&RID=78S39CGY013\"\",\"\"XP_509693.3\"\")\"\n",
            "hypocretin receptor 1 [Homo sapiens],Homo sapiens,human,9606,48.1,48.1,85%,4e-06,27.36,389,\"=HYPERLINK(\"\"https://www.ncbi.nlm.nih.gov/protein/KAI2516013.1?report=genbank&log$=prottop&blast_rank=39&RID=78S39CGY013\"\",\"\"KAI2516013.1\"\")\"\n",
            "hypocretin receptor 1 [Homo sapiens],Homo sapiens,human,9606,48.1,48.1,85%,4e-06,27.36,425,\"=HYPERLINK(\"\"https://www.ncbi.nlm.nih.gov/protein/KAI2516014.1?report=genbank&log$=prottop&blast_rank=40&RID=78S39CGY013\"\",\"\"KAI2516014.1\"\")\"\n",
            "orexin receptor-1 [Homo sapiens],Homo sapiens,human,9606,48.1,48.1,85%,4e-06,27.36,425,\"=HYPERLINK(\"\"https://www.ncbi.nlm.nih.gov/protein/AAC39601.1?report=genbank&log$=prottop&blast_rank=41&RID=78S39CGY013\"\",\"\"AAC39601.1\"\")\"\n",
            "orexin/Hypocretin receptor type 1 isoform X1 [Homo sapiens],Homo sapiens,human,9606,48.1,48.1,85%,4e-06,27.36,425,\"=HYPERLINK(\"\"https://www.ncbi.nlm.nih.gov/protein/XP_054192175.1?report=genbank&log$=prottop&blast_rank=42&RID=78S39CGY013\"\",\"\"XP_054192175.1\"\")\"\n",
            "endothelin receptor type B isoform 3 [Homo sapiens],Homo sapiens,human,9606,48.1,48.1,90%,4e-06,28.07,532,\"=HYPERLINK(\"\"https://www.ncbi.nlm.nih.gov/protein/NP_001188326.1?report=genbank&log$=prottop&blast_rank=43&RID=78S39CGY013\"\",\"\"NP_001188326.1\"\")\"\n",
            "orexin/Hypocretin receptor type 1 [Homo sapiens],Homo sapiens,human,9606,48.1,48.1,85%,4e-06,27.36,425,\"=HYPERLINK(\"\"https://www.ncbi.nlm.nih.gov/protein/NP_001516.2?report=genbank&log$=prottop&blast_rank=44&RID=78S39CGY013\"\",\"\"NP_001516.2\"\")\"\n",
            "HCRTR1 isoform 5 [Pan troglodytes],Pan troglodytes,chimpanzee,9598,48.1,48.1,85%,4e-06,27.36,389,\"=HYPERLINK(\"\"https://www.ncbi.nlm.nih.gov/protein/PNI15637.1?report=genbank&log$=prottop&blast_rank=45&RID=78S39CGY013\"\",\"\"PNI15637.1\"\")\"\n",
            "endothelin receptor B delta 3 [Homo sapiens],Homo sapiens,human,9606,48.1,48.1,90%,4e-06,28.07,531,\"=HYPERLINK(\"\"https://www.ncbi.nlm.nih.gov/protein/AAD24541.1?report=genbank&log$=prottop&blast_rank=46&RID=78S39CGY013\"\",\"\"AAD24541.1\"\")\"\n",
            "orexin/Hypocretin receptor type 1 [Pan paniscus],Pan paniscus,pygmy chimpanzee,9597,48.1,48.1,85%,4e-06,27.36,425,\"=HYPERLINK(\"\"https://www.ncbi.nlm.nih.gov/protein/XP_054959326.2?report=genbank&log$=prottop&blast_rank=47&RID=78S39CGY013\"\",\"\"XP_054959326.2\"\")\"\n",
            "\"Chain A, Orexin receptor type 2 [Homo sapiens]\",Homo sapiens,human,9606,47.0,47.0,85%,9e-06,26.42,341,\"=HYPERLINK(\"\"https://www.ncbi.nlm.nih.gov/protein/7XRR_A?report=genbank&log$=prottop&blast_rank=48&RID=78S39CGY013\"\",\"\"7XRR_A\"\")\"\n",
            "prokineticin receptor 2 [Homo sapiens],Homo sapiens,human,9606,46.6,46.6,100%,1e-05,26.83,811,\"=HYPERLINK(\"\"https://www.ncbi.nlm.nih.gov/protein/EAX10422.1?report=genbank&log$=prottop&blast_rank=49&RID=78S39CGY013\"\",\"\"EAX10422.1\"\")\"\n",
            "endothelin receptor type B [Homo sapiens],Homo sapiens,human,9606,45.1,45.1,80%,3e-05,27.72,162,\"=HYPERLINK(\"\"https://www.ncbi.nlm.nih.gov/protein/KAI2569661.1?report=genbank&log$=prottop&blast_rank=50&RID=78S39CGY013\"\",\"\"KAI2569661.1\"\")\"\n",
            "PROKR2 isoform 1 [Pan troglodytes],Pan troglodytes,chimpanzee,9598,45.4,45.4,100%,4e-05,26.83,384,\"=HYPERLINK(\"\"https://www.ncbi.nlm.nih.gov/protein/PNI62500.1?report=genbank&log$=prottop&blast_rank=51&RID=78S39CGY013\"\",\"\"PNI62500.1\"\")\"\n",
            "prokineticin receptor 2 [Pan paniscus],Pan paniscus,pygmy chimpanzee,9597,45.4,45.4,100%,4e-05,26.83,384,\"=HYPERLINK(\"\"https://www.ncbi.nlm.nih.gov/protein/XP_024782673.1?report=genbank&log$=prottop&blast_rank=52&RID=78S39CGY013\"\",\"\"XP_024782673.1\"\")\"\n",
            "unnamed protein product [Homo sapiens],Homo sapiens,human,9606,45.4,45.4,100%,4e-05,26.83,384,\"=HYPERLINK(\"\"https://www.ncbi.nlm.nih.gov/protein/BAF82684.1?report=genbank&log$=prottop&blast_rank=53&RID=78S39CGY013\"\",\"\"BAF82684.1\"\")\"\n",
            "prokineticin receptor 2 [Homo sapiens],Homo sapiens,human,9606,45.4,45.4,100%,4e-05,26.83,384,\"=HYPERLINK(\"\"https://www.ncbi.nlm.nih.gov/protein/NP_658986.1?report=genbank&log$=prottop&blast_rank=54&RID=78S39CGY013\"\",\"\"NP_658986.1\"\")\"\n",
            "prokineticin receptor 2 [Pan troglodytes],Pan troglodytes,chimpanzee,9598,45.4,45.4,100%,4e-05,26.83,384,\"=HYPERLINK(\"\"https://www.ncbi.nlm.nih.gov/protein/XP_001165973.3?report=genbank&log$=prottop&blast_rank=55&RID=78S39CGY013\"\",\"\"XP_001165973.3\"\")\"\n",
            "prokineticin receptor 2 [Homo sapiens],Homo sapiens,human,9606,45.4,45.4,100%,4e-05,26.83,384,\"=HYPERLINK(\"\"https://www.ncbi.nlm.nih.gov/protein/ABQ52418.1?report=genbank&log$=prottop&blast_rank=56&RID=78S39CGY013\"\",\"\"ABQ52418.1\"\")\"\n",
            "prokineticin receptor 1 isoform X2 [Pan paniscus],Pan paniscus,pygmy chimpanzee,9597,44.7,44.7,90%,6e-05,24.56,372,\"=HYPERLINK(\"\"https://www.ncbi.nlm.nih.gov/protein/XP_063450972.1?report=genbank&log$=prottop&blast_rank=57&RID=78S39CGY013\"\",\"\"XP_063450972.1\"\")\"\n",
            "\"Chain A, Orexin receptor type 1 [Homo sapiens]\",Homo sapiens,human,9606,44.7,44.7,61%,6e-05,30.77,368,\"=HYPERLINK(\"\"https://www.ncbi.nlm.nih.gov/protein/6TP3_A?report=genbank&log$=prottop&blast_rank=58&RID=78S39CGY013\"\",\"\"6TP3_A\"\")\"\n",
            "prokineticin receptor 1 isoform X1 [Pan paniscus],Pan paniscus,pygmy chimpanzee,9597,44.7,44.7,90%,6e-05,24.56,393,\"=HYPERLINK(\"\"https://www.ncbi.nlm.nih.gov/protein/XP_003830967.1?report=genbank&log$=prottop&blast_rank=59&RID=78S39CGY013\"\",\"\"XP_003830967.1\"\")\"\n",
            "prokineticin receptor 1 [Homo sapiens],Homo sapiens,human,9606,44.7,44.7,90%,6e-05,24.56,393,\"=HYPERLINK(\"\"https://www.ncbi.nlm.nih.gov/protein/NP_620414.1?report=genbank&log$=prottop&blast_rank=60&RID=78S39CGY013\"\",\"\"NP_620414.1\"\")\"\n",
            "prokineticin receptor 1 [Homo sapiens],Homo sapiens,human,9606,43.1,43.1,90%,2e-04,23.68,393,\"=HYPERLINK(\"\"https://www.ncbi.nlm.nih.gov/protein/AAM48127.1?report=genbank&log$=prottop&blast_rank=61&RID=78S39CGY013\"\",\"\"AAM48127.1\"\")\"\n",
            "\"Chain R, Hypocretin receptor type 2 [Homo sapiens]\",Homo sapiens,human,9606,42.7,42.7,67%,3e-04,29.41,407,\"=HYPERLINK(\"\"https://www.ncbi.nlm.nih.gov/protein/7SR8_R?report=genbank&log$=prottop&blast_rank=62&RID=78S39CGY013\"\",\"\"7SR8_R\"\")\"\n",
            "\"Chain R, Orexin receptor type 2 [Homo sapiens]\",Homo sapiens,human,9606,42.7,42.7,67%,3e-04,29.41,444,\"=HYPERLINK(\"\"https://www.ncbi.nlm.nih.gov/protein/7SQO_R?report=genbank&log$=prottop&blast_rank=63&RID=78S39CGY013\"\",\"\"7SQO_R\"\")\"\n",
            "orexin receptor type 2 [Homo sapiens],Homo sapiens,human,9606,42.7,42.7,67%,3e-04,29.41,444,\"=HYPERLINK(\"\"https://www.ncbi.nlm.nih.gov/protein/NP_001371201.1?report=genbank&log$=prottop&blast_rank=64&RID=78S39CGY013\"\",\"\"NP_001371201.1\"\")\"\n",
            "orexin receptor type 2 [Pan troglodytes],Pan troglodytes,chimpanzee,9598,42.7,42.7,67%,3e-04,29.41,444,\"=HYPERLINK(\"\"https://www.ncbi.nlm.nih.gov/protein/XP_024212765.1?report=genbank&log$=prottop&blast_rank=65&RID=78S39CGY013\"\",\"\"XP_024212765.1\"\")\"\n",
            "tachykinin receptor 2 [Homo sapiens],Homo sapiens,human,9606,42.7,42.7,85%,3e-04,28.04,362,\"=HYPERLINK(\"\"https://www.ncbi.nlm.nih.gov/protein/KAI2556038.1?report=genbank&log$=prottop&blast_rank=66&RID=78S39CGY013\"\",\"\"KAI2556038.1\"\")\"\n",
            "orexin receptor type 2 isoform X1 [Homo sapiens],Homo sapiens,human,9606,42.7,42.7,67%,3e-04,29.41,461,\"=HYPERLINK(\"\"https://www.ncbi.nlm.nih.gov/protein/XP_016866287.1?report=genbank&log$=prottop&blast_rank=67&RID=78S39CGY013\"\",\"\"XP_016866287.1\"\")\"\n",
            "\"Chain A, Orexin receptor type 2,GlgA glycogen synthase,Orexin receptor type 2 [Homo sapiens]\",Homo sapiens,human,9606,42.4,42.4,80%,4e-04,28.16,560,\"=HYPERLINK(\"\"https://www.ncbi.nlm.nih.gov/protein/5WQC_A?report=genbank&log$=prottop&blast_rank=68&RID=78S39CGY013\"\",\"\"5WQC_A\"\")\"\n",
            "orexin type-2 receptor isoform 2 [Homo sapiens],Homo sapiens,human,9606,40.4,40.4,60%,0.002,30.26,285,\"=HYPERLINK(\"\"https://www.ncbi.nlm.nih.gov/protein/AGP04117.1?report=genbank&log$=prottop&blast_rank=69&RID=78S39CGY013\"\",\"\"AGP04117.1\"\")\"\n",
            "\"Chain A, Endothelin Receptor Subtype-B [Homo sapiens]\",Homo sapiens,human,9606,40.0,40.0,60%,0.003,32.47,498,\"=HYPERLINK(\"\"https://www.ncbi.nlm.nih.gov/protein/5GLH_A?report=genbank&log$=prottop&blast_rank=70&RID=78S39CGY013\"\",\"\"5GLH_A\"\")\"\n",
            "\"Chain A, Endothelin Receptor Subtype-B [Homo sapiens]\",Homo sapiens,human,9606,39.7,39.7,60%,0.003,32.47,464,\"=HYPERLINK(\"\"https://www.ncbi.nlm.nih.gov/protein/5GLI_A?report=genbank&log$=prottop&blast_rank=71&RID=78S39CGY013\"\",\"\"5GLI_A\"\")\"\n",
            "\"Chain A, Endothelin B receptor,Endolysin,Endothelin B receptor [Homo sapiens]\",Homo sapiens,human,9606,39.7,39.7,60%,0.003,32.47,464,\"=HYPERLINK(\"\"https://www.ncbi.nlm.nih.gov/protein/5XPR_A?report=genbank&log$=prottop&blast_rank=72&RID=78S39CGY013\"\",\"\"5XPR_A\"\")\"\n",
            "endothelin ET-A receptor [Homo sapiens],Homo sapiens,human,9606,37.0,37.0,98%,0.033,24.03,427,\"=HYPERLINK(\"\"https://www.ncbi.nlm.nih.gov/protein/AAB25530.2?report=genbank&log$=prottop&blast_rank=73&RID=78S39CGY013\"\",\"\"AAB25530.2\"\")\"\n",
            "Endothelin receptor type A [Homo sapiens],Homo sapiens,human,9606,36.6,36.6,98%,0.036,24.59,427,\"=HYPERLINK(\"\"https://www.ncbi.nlm.nih.gov/protein/AAH22511.1?report=genbank&log$=prottop&blast_rank=74&RID=78S39CGY013\"\",\"\"AAH22511.1\"\")\"\n",
            "endothelin-1 receptor [Pan paniscus],Pan paniscus,pygmy chimpanzee,9597,36.6,36.6,98%,0.037,24.59,427,\"=HYPERLINK(\"\"https://www.ncbi.nlm.nih.gov/protein/XP_034815113.1?report=genbank&log$=prottop&blast_rank=75&RID=78S39CGY013\"\",\"\"XP_034815113.1\"\")\"\n",
            "endothelin-1 receptor isoform a precursor [Homo sapiens],Homo sapiens,human,9606,36.6,36.6,98%,0.038,24.03,427,\"=HYPERLINK(\"\"https://www.ncbi.nlm.nih.gov/protein/NP_001948.1?report=genbank&log$=prottop&blast_rank=76&RID=78S39CGY013\"\",\"\"NP_001948.1\"\")\"\n",
            "endothelin receptor type A [Homo sapiens],Homo sapiens,human,9606,36.6,36.6,98%,0.038,24.59,427,\"=HYPERLINK(\"\"https://www.ncbi.nlm.nih.gov/protein/AAA58447.1?report=genbank&log$=prottop&blast_rank=77&RID=78S39CGY013\"\",\"\"AAA58447.1\"\")\"\n",
            "endothelin receptor subtype A [Homo sapiens],Homo sapiens,human,9606,36.6,36.6,98%,0.038,24.59,427,\"=HYPERLINK(\"\"https://www.ncbi.nlm.nih.gov/protein/AAB23644.1?report=genbank&log$=prottop&blast_rank=78&RID=78S39CGY013\"\",\"\"AAB23644.1\"\")\"\n",
            "\"Chain R, Endothelin-1 receptor,Oplophorus-luciferin 2-monooxygenase catalytic subunit chimera [Homo sapiens]\",Homo sapiens,human,9606,36.6,36.6,98%,0.048,24.59,622,\"=HYPERLINK(\"\"https://www.ncbi.nlm.nih.gov/protein/8HCQ_R?report=genbank&log$=prottop&blast_rank=79&RID=78S39CGY013\"\",\"\"8HCQ_R\"\")\"\n",
            "\n",
            "\n",
            "\n",
            "\t\t\n",
            "\n",
            "\n",
            "\n"
          ]
        }
      ]
    },
    {
      "cell_type": "markdown",
      "source": [
        "Use ExPasy to get Isoelectric Point (pI):\n",
        "\n",
        "https://web.expasy.org/compute_pi/"
      ],
      "metadata": {
        "id": "xZ0DYdpijaQK"
      }
    },
    {
      "cell_type": "code",
      "source": [],
      "metadata": {
        "id": "qC4OvxLsjd1Z"
      },
      "execution_count": null,
      "outputs": []
    },
    {
      "cell_type": "markdown",
      "source": [
        "Use Protein 2.0 to obtain Hydrophobicity, Basic, Acidic, and Neutral Bases\n",
        "https://peptide2.com/N_peptide_hydrophobicity_hydrophilicity.php"
      ],
      "metadata": {
        "id": "jtaUGoTdje3D"
      }
    },
    {
      "cell_type": "code",
      "source": [],
      "metadata": {
        "id": "mbjNLgfojuWC"
      },
      "execution_count": null,
      "outputs": []
    },
    {
      "cell_type": "markdown",
      "source": [
        "# Example antibody search: Abcam's website and pull immunogen"
      ],
      "metadata": {
        "id": "Kmk6XYNY-u6B"
      }
    },
    {
      "cell_type": "markdown",
      "source": [
        "Navigating to the main site URL.\n",
        "Entering search terms into the search bar.\n",
        "Clicking the search button.\n",
        "Retrieving the results and navigating to the first result."
      ],
      "metadata": {
        "id": "03ImxJM4-7Sq"
      }
    },
    {
      "cell_type": "code",
      "source": [
        "%pip install -q google-colab-selenium\n",
        "from selenium.webdriver.common.by import By\n",
        "from selenium.webdriver.support.ui import WebDriverWait\n",
        "from selenium.webdriver.support import expected_conditions as EC\n",
        "import os\n",
        "import re\n",
        "from Bio import Entrez\n",
        "from google.colab import files\n",
        "import io\n",
        "import time\n",
        "import requests\n",
        "import google_colab_selenium as gs\n",
        "from selenium.webdriver.common.keys import Keys\n",
        "\n",
        "driver = gs.Chrome()\n",
        "\n",
        "def search_abcam(driver, search_terms):\n",
        "    driver.get(\"https://www.abcam.com/\")\n",
        "    search_bar = WebDriverWait(driver, 10).until(\n",
        "        EC.presence_of_element_located((By.ID, \"searchfieldtop\"))\n",
        "    )\n",
        "    search_bar.clear()\n",
        "    search_bar.send_keys(search_terms)\n",
        "    search_bar.send_keys(Keys.RETURN)\n",
        "    WebDriverWait(driver, 10).until(\n",
        "        EC.presence_of_element_located((By.XPATH, '//a[contains(@href, \"products/primary-antibodies\")]'))\n",
        "    )\n",
        "    print(\"Navigated to search results page.\")\n",
        "\n",
        "def click_first_result(driver):\n",
        "    try:\n",
        "        first_product_link = WebDriverWait(driver, 10).until(\n",
        "            EC.presence_of_element_located((By.XPATH, '//a[contains(@href, \"products/primary-antibodies\")]'))\n",
        "        )\n",
        "        first_product_link.click()\n",
        "        print(\"Clicked on the first product link and navigated to the product page.\")\n",
        "    except Exception as e:\n",
        "        print(f\"Error clicking the first product link: {e}\")\n",
        "        return None\n",
        "\n",
        "def extract_immunogen(driver):\n",
        "    try:\n",
        "        immunogen_header = WebDriverWait(driver, 10).until(\n",
        "            EC.presence_of_element_located((By.XPATH, '//h3[text()=\"Immunogen\"]'))\n",
        "        )\n",
        "        immunogen_text_element = immunogen_header.find_element(By.XPATH, \"./following-sibling::div\")\n",
        "        immunogen_text = immunogen_text_element.text\n",
        "        print(f\"Immunogen: {immunogen_text}\")\n",
        "        return immunogen_text\n",
        "    except Exception as e:\n",
        "        print(f\"Error extracting immunogen: {e}\")\n",
        "        return None\n",
        "\n",
        "# Add more website functions here similar to the above for Abcam\n",
        "\n",
        "# Main function\n",
        "def main():\n",
        "    # Prompt user for search terms\n",
        "    search_terms = input(\"Enter the search term for the antibody: \")\n",
        "\n",
        "    # Perform search on Abcam and extract immunogen sequence\n",
        "    search_abcam(driver, search_terms)\n",
        "    click_first_result(driver)\n",
        "    immunogen = extract_immunogen(driver)\n",
        "\n",
        "    # Close the WebDriver\n",
        "    driver.quit()\n",
        "\n",
        "    if immunogen:\n",
        "        print(\"Successfully extracted immunogen sequence.\")\n",
        "        # Here you can call the Flexible BLAST program with the immunogen sequence\n",
        "    else:\n",
        "        print(\"Failed to extract immunogen sequence.\")\n",
        "\n",
        "# Run the main function\n",
        "if __name__ == \"__main__\":\n",
        "    main()\n"
      ],
      "metadata": {
        "colab": {
          "base_uri": "https://localhost:8080/",
          "height": 148
        },
        "id": "F95pOu4u_B63",
        "outputId": "e67e7818-d8db-452a-f60b-46f87306788b"
      },
      "execution_count": null,
      "outputs": [
        {
          "output_type": "display_data",
          "data": {
            "text/plain": [
              "<IPython.core.display.HTML object>"
            ],
            "text/html": [
              "\n",
              "            <div class=\"spinner-container\">\n",
              "                <div class=\"spinner\" id=\"46c05aab-1a85-4a8d-9a54-2252bf7e2ba2-circle\"></div>\n",
              "                <div class=\"spinner-text\" id=\"46c05aab-1a85-4a8d-9a54-2252bf7e2ba2-text\">Initializing Chromedriver</div>\n",
              "            </div>\n",
              "            <style>\n",
              "                @keyframes spin {\n",
              "                    from { transform: rotate(0deg); }\n",
              "                    to { transform: rotate(360deg); }\n",
              "                }\n",
              "\n",
              "                .spinner-container {\n",
              "                    display: flex;\n",
              "                    align-items: center;\n",
              "                    margin-bottom: 3px;\n",
              "                }\n",
              "\n",
              "                .spinner {\n",
              "                    border: 3px solid rgba(0, 0, 0, 0.1);\n",
              "                    border-left-color: lightblue;\n",
              "                    border-radius: 50%;\n",
              "                    width: 12px;\n",
              "                    height: 12px;\n",
              "                    animation: spin 1s linear infinite;\n",
              "                }\n",
              "\n",
              "                .spinner-text {\n",
              "                    padding-left: 6px;\n",
              "                }\n",
              "            </style>\n",
              "        "
            ]
          },
          "metadata": {}
        },
        {
          "output_type": "display_data",
          "data": {
            "text/plain": [
              "<IPython.core.display.Javascript object>"
            ],
            "application/javascript": [
              "\n",
              "            const element = document.getElementById(\"46c05aab-1a85-4a8d-9a54-2252bf7e2ba2-circle\");\n",
              "            element.style.border = \"3px solid limegreen\";\n",
              "            element.style.animation = \"none\";\n",
              "\n",
              "            const text = document.getElementById(\"46c05aab-1a85-4a8d-9a54-2252bf7e2ba2-text\");\n",
              "            text.innerText = \"Initialized Chromedriver\";\n",
              "        "
            ]
          },
          "metadata": {}
        },
        {
          "output_type": "stream",
          "name": "stdout",
          "text": [
            "Enter the search term for the antibody: oxytocin receptor human monoclonal\n",
            "Navigated to search results page.\n",
            "Clicked on the first product link and navigated to the product page.\n",
            "Immunogen: Synthetic peptide. This information is proprietary to Abcam and/or its suppliers.\n",
            "Successfully extracted immunogen sequence.\n"
          ]
        }
      ]
    },
    {
      "cell_type": "markdown",
      "source": [
        "Using beautifulsoup and selenium to get antibody vendor names and URLs"
      ],
      "metadata": {
        "id": "oP1PdcbACzyk"
      }
    },
    {
      "cell_type": "code",
      "source": [
        "import requests\n",
        "from bs4 import BeautifulSoup\n",
        "import pandas as pd\n",
        "import csv\n",
        "import time\n",
        "import google_colab_selenium as gs\n",
        "\n",
        "driver = gs.Chrome()\n",
        "\n",
        "def get_website_title(url):\n",
        "    try:\n",
        "        driver.get(url)\n",
        "        time.sleep(2)  # Wait for the page to load\n",
        "        return driver.title\n",
        "    except Exception as e:\n",
        "        print(f\"Error retrieving title for {url}: {e}\")\n",
        "        return None\n",
        "\n",
        "def google_search(term, num_results=50):\n",
        "    search_url = f\"https://www.google.com/search?q={term}&num={num_results}\"\n",
        "    headers = {\n",
        "        'User-Agent': 'Mozilla/5.0 (Windows NT 10.0; Win64; x64) AppleWebKit/537.36 (KHTML, like Gecko) Chrome/91.0.4472.124 Safari/537.36'\n",
        "    }\n",
        "\n",
        "    response = requests.get(search_url, headers=headers)\n",
        "    soup = BeautifulSoup(response.text, 'html.parser')\n",
        "\n",
        "    results = []\n",
        "    search_results = soup.find_all('div', class_='g')\n",
        "\n",
        "    print(f\"Found {len(search_results)} results on the first page.\")\n",
        "\n",
        "    for result in search_results:\n",
        "        try:\n",
        "            title = result.find('h3').text\n",
        "            link = result.find('a')['href']\n",
        "            domain = link.split('/')[2]\n",
        "            results.append((title, domain))\n",
        "            if len(results) >= num_results:\n",
        "                break\n",
        "        except Exception as e:\n",
        "            continue\n",
        "\n",
        "    return results\n",
        "\n",
        "def save_to_csv(results, filename='antibody_vendors.csv'):\n",
        "    with open(filename, 'w', newline='') as csvfile:\n",
        "        writer = csv.writer(csvfile)\n",
        "        writer.writerow(['Website Title', 'Website URL'])\n",
        "        for title, url in results:\n",
        "            writer.writerow([title, url])\n",
        "    print(f\"Results saved to {filename}\")\n",
        "\n",
        "def main():\n",
        "    # Google search part\n",
        "    term = input(\"Enter the search term: \")\n",
        "    results = google_search(term)\n",
        "    if results:\n",
        "        print(f\"Total results found: {len(results)}\")\n",
        "        save_to_csv(results)\n",
        "        df = pd.read_csv('antibody_vendors.csv')\n",
        "        print(df)\n",
        "    else:\n",
        "        print(\"No results found.\")\n",
        "\n",
        "if __name__ == \"__main__\":\n",
        "    main()"
      ],
      "metadata": {
        "colab": {
          "base_uri": "https://localhost:8080/",
          "height": 1000
        },
        "id": "Dzh9s9IQUSym",
        "outputId": "24d33e5e-8d92-4647-b806-fbd1ddcd8710"
      },
      "execution_count": null,
      "outputs": [
        {
          "output_type": "display_data",
          "data": {
            "text/plain": [
              "<IPython.core.display.HTML object>"
            ],
            "text/html": [
              "\n",
              "            <div class=\"spinner-container\">\n",
              "                <div class=\"spinner\" id=\"e6cbedeb-0e5c-463c-aeed-5eef9b329ebd-circle\"></div>\n",
              "                <div class=\"spinner-text\" id=\"e6cbedeb-0e5c-463c-aeed-5eef9b329ebd-text\">Initializing Chromedriver</div>\n",
              "            </div>\n",
              "            <style>\n",
              "                @keyframes spin {\n",
              "                    from { transform: rotate(0deg); }\n",
              "                    to { transform: rotate(360deg); }\n",
              "                }\n",
              "\n",
              "                .spinner-container {\n",
              "                    display: flex;\n",
              "                    align-items: center;\n",
              "                    margin-bottom: 3px;\n",
              "                }\n",
              "\n",
              "                .spinner {\n",
              "                    border: 3px solid rgba(0, 0, 0, 0.1);\n",
              "                    border-left-color: lightblue;\n",
              "                    border-radius: 50%;\n",
              "                    width: 12px;\n",
              "                    height: 12px;\n",
              "                    animation: spin 1s linear infinite;\n",
              "                }\n",
              "\n",
              "                .spinner-text {\n",
              "                    padding-left: 6px;\n",
              "                }\n",
              "            </style>\n",
              "        "
            ]
          },
          "metadata": {}
        },
        {
          "output_type": "display_data",
          "data": {
            "text/plain": [
              "<IPython.core.display.Javascript object>"
            ],
            "application/javascript": [
              "\n",
              "            const element = document.getElementById(\"e6cbedeb-0e5c-463c-aeed-5eef9b329ebd-circle\");\n",
              "            element.style.border = \"3px solid limegreen\";\n",
              "            element.style.animation = \"none\";\n",
              "\n",
              "            const text = document.getElementById(\"e6cbedeb-0e5c-463c-aeed-5eef9b329ebd-text\");\n",
              "            text.innerText = \"Initialized Chromedriver\";\n",
              "        "
            ]
          },
          "metadata": {}
        },
        {
          "output_type": "stream",
          "name": "stdout",
          "text": [
            "Enter the search term: antibody products\n",
            "Found 49 results on the first page.\n",
            "Total results found: 49\n",
            "Results saved to antibody_vendors.csv\n",
            "                                        Website Title  \\\n",
            "0                            Antibody Products – MHIR   \n",
            "1                 Discover a Wide Range of Antibodies   \n",
            "2                      Antibody Products for Research   \n",
            "3          Antibodies | Thermo Fisher Scientific - US   \n",
            "4   Antibodies - Primary, Secondary & Recombinant ...   \n",
            "5                                   ANTIBODY PRODUCTS   \n",
            "6               Anti-SARS-CoV-2 Monoclonal Antibodies   \n",
            "7   Abcam: Antibodies, Proteins, Kits and Reagents...   \n",
            "8   Antibodies, ELISA Kits & Proteins for Life Sci...   \n",
            "9   Antibody therapeutics approved or in regulator...   \n",
            "10                       Monoclonal Antibodies (MABs)   \n",
            "11                     COVID-19 Monoclonal Antibodies   \n",
            "12                     All Antibody Products - PROGEN   \n",
            "13  A systematic review of commercial high concent...   \n",
            "14     FDA approves 100th monoclonal antibody product   \n",
            "15  Monoclonal antibody drugs for cancer: How they...   \n",
            "16                         Antibodies - Product Types   \n",
            "17       Monoclonal Antibodies and Their Side Effects   \n",
            "18  Development of Monoclonal Antibody Products Ta...   \n",
            "19                              New Antibody Products   \n",
            "20  Monoclonal Antibodies: Definition & How Treatm...   \n",
            "21  Overview of therapeutic monoclonal antibodies ...   \n",
            "22                                Monoclonal antibody   \n",
            "23                       Monoclonal Antibodies (mABs)   \n",
            "24                     Coronavirus Antibody Treatment   \n",
            "25  Coverage of Monoclonal Antibody Products to Tr...   \n",
            "26  Expanding access to monoclonal antibody-based ...   \n",
            "27          Therapeutic Monoclonal Antibodies and ...   \n",
            "28  Bispecific Antibodies: An Area of Research and...   \n",
            "29  What are monoclonal antibodies – and can they ...   \n",
            "30                Antibodies for Coronavirus Research   \n",
            "31  Development of Monoclonal Antibody Products Ta...   \n",
            "32  Next generation antibody drugs: pursuit of the...   \n",
            "33  Emerging antibody-based products for infectiou...   \n",
            "34        Antibody Medicines and Regeneron Technology   \n",
            "35                   Buy Monoclonal Antibodies Online   \n",
            "36  Characterization of Antibody Products Obtained...   \n",
            "37                       Antibody Manufacturing Tools   \n",
            "38  Antibodies.com | Antibodies, Proteins, and ELI...   \n",
            "39  Monoclonal Antibodies (mAbs) Products for Manu...   \n",
            "40           Antibodies: Definition, Types & Function   \n",
            "41  Bulk and Custom Antibodies | IVD/OEM Materials...   \n",
            "42                                         Antibodies   \n",
            "43      Monoclonal Antibody Production | Bioxcellence   \n",
            "44  Expanding access to monoclonal antibodies | We...   \n",
            "45                 Antibodies | Life Science Research   \n",
            "46     Antibody Product Search | AntibodyResource.com   \n",
            "47                              Monoclonal Antibodies   \n",
            "48  Popular Monoclonal Antibodies List, Drug Price...   \n",
            "\n",
            "                               Website URL  \n",
            "0                                 mhir.org  \n",
            "1                       www.rndsystems.com  \n",
            "2                           www.amsbio.com  \n",
            "3                     www.thermofisher.com  \n",
            "4                     www.sigmaaldrich.com  \n",
            "5                       www.aphis.usda.gov  \n",
            "6   www.covid19treatmentguidelines.nih.gov  \n",
            "7                            www.abcam.com  \n",
            "8                www.antibodies-online.com  \n",
            "9                  www.antibodysociety.org  \n",
            "10                www.cancerresearchuk.org  \n",
            "11                             www.cms.gov  \n",
            "12                          www.progen.com  \n",
            "13                    www.ncbi.nlm.nih.gov  \n",
            "14                          www.nature.com  \n",
            "15                      www.mayoclinic.org  \n",
            "16                        www.stemcell.com  \n",
            "17                          www.cancer.org  \n",
            "18                             www.fda.gov  \n",
            "19                         capralogics.com  \n",
            "20                  my.clevelandclinic.org  \n",
            "21                        www.uptodate.com  \n",
            "22                        en.wikipedia.org  \n",
            "23                             www.who.int  \n",
            "24                        www.medicare.gov  \n",
            "25                             www.cms.gov  \n",
            "26                            www.iavi.org  \n",
            "27                            www.mdpi.com  \n",
            "28                             www.fda.gov  \n",
            "29                            wellcome.org  \n",
            "30                      www.rndsystems.com  \n",
            "31                 www.federalregister.gov  \n",
            "32                          www.nature.com  \n",
            "33                     www.tandfonline.com  \n",
            "34                       www.regeneron.com  \n",
            "35                     www.avivasysbio.com  \n",
            "36                            pubs.acs.org  \n",
            "37              www.bio-rad-antibodies.com  \n",
            "38                      www.antibodies.com  \n",
            "39                              us.vwr.com  \n",
            "40                  my.clevelandclinic.org  \n",
            "41                    www.emdmillipore.com  \n",
            "42                       www.fishersci.com  \n",
            "43            www.boehringer-ingelheim.com  \n",
            "44                            wellcome.org  \n",
            "45                  www.merckmillipore.com  \n",
            "46                www.antibodyresource.com  \n",
            "47                              www.si.edu  \n",
            "48                          www.goodrx.com  \n"
          ]
        }
      ]
    },
    {
      "cell_type": "markdown",
      "source": [
        "Using selenium (not working as well)"
      ],
      "metadata": {
        "id": "bVONsQdFCrc9"
      }
    },
    {
      "cell_type": "code",
      "source": [
        "\"\"\"\n",
        "import time\n",
        "import csv\n",
        "import pandas as pd\n",
        "from selenium.webdriver.common.by import By\n",
        "from selenium.webdriver.common.keys import Keys\n",
        "from selenium.webdriver.support.ui import WebDriverWait\n",
        "from selenium.webdriver.support import expected_conditions as EC\n",
        "import google_colab_selenium as gs\n",
        "\n",
        "def google_search(term, num_results=50):\n",
        "    driver = gs.Chrome()\n",
        "    search_url = \"https://www.google.com\"\n",
        "    driver.get(search_url)\n",
        "\n",
        "    search_box = WebDriverWait(driver, 10).until(\n",
        "        EC.presence_of_element_located((By.NAME, \"q\"))\n",
        "    )\n",
        "    search_box.clear()\n",
        "    search_box.send_keys(term)\n",
        "    search_box.send_keys(Keys.RETURN)\n",
        "\n",
        "    results = []\n",
        "    pages_scanned = 0\n",
        "\n",
        "    while len(results) < num_results:\n",
        "        time.sleep(2)  # Wait for the page to load\n",
        "        search_results = driver.find_elements(By.CSS_SELECTOR, 'div.g')\n",
        "\n",
        "        print(f\"Page {pages_scanned + 1}: Found {len(search_results)} results.\")\n",
        "\n",
        "        for result in search_results:\n",
        "            try:\n",
        "                title = result.find_element(By.TAG_NAME, 'h3').text\n",
        "                link = result.find_element(By.TAG_NAME, 'a').get_attribute('href')\n",
        "                domain = link.split('/')[2]\n",
        "                results.append((title, domain))\n",
        "                if len(results) >= num_results:\n",
        "                    break\n",
        "            except Exception as e:\n",
        "                continue\n",
        "\n",
        "        try:\n",
        "            next_button = WebDriverWait(driver, 10).until(\n",
        "                EC.presence_of_element_located((By.ID, \"pnnext\"))\n",
        "            )\n",
        "            next_button.click()\n",
        "        except Exception as e:\n",
        "            print(\"No more pages or error navigating to the next page.\")\n",
        "            break\n",
        "\n",
        "        pages_scanned += 1\n",
        "        print(f\"Total results so far: {len(results)}\")\n",
        "\n",
        "    driver.quit()\n",
        "    return results, pages_scanned\n",
        "\n",
        "def save_to_csv(results, filename='antibody_vendors.csv'):\n",
        "    with open(filename, 'w', newline='') as csvfile:\n",
        "        writer = csv.writer(csvfile)\n",
        "        writer.writerow(['Title', 'URL'])\n",
        "        for title, url in results:\n",
        "            writer.writerow([title, url])\n",
        "    print(f\"Results saved to {filename}\")\n",
        "\n",
        "def main():\n",
        "    term = input(\"Enter the search term: \")\n",
        "    results, pages_scanned = google_search(term)\n",
        "    if results:\n",
        "        print(f\"Total pages scanned: {pages_scanned}\")\n",
        "        print(f\"Total results found: {len(results)}\")\n",
        "        save_to_csv(results)\n",
        "        df = pd.read_csv('antibody_vendors.csv')\n",
        "        print(df)\n",
        "    else:\n",
        "        print(\"No results found.\")\n",
        "\n",
        "if __name__ == \"__main__\":\n",
        "    main()\n"
      ],
      "metadata": {
        "colab": {
          "base_uri": "https://localhost:8080/",
          "height": 710
        },
        "id": "0v6wYQdAUiSr",
        "outputId": "e3e2c168-67a5-41f9-b660-b51f1372f9cc"
      },
      "execution_count": null,
      "outputs": [
        {
          "name": "stdout",
          "output_type": "stream",
          "text": [
            "Enter the search term: neuromedin b polyclonal antibody\n"
          ]
        },
        {
          "output_type": "display_data",
          "data": {
            "text/plain": [
              "<IPython.core.display.HTML object>"
            ],
            "text/html": [
              "\n",
              "            <div class=\"spinner-container\">\n",
              "                <div class=\"spinner\" id=\"41ffa05b-2a00-424e-a433-5a3e4e4f5721-circle\"></div>\n",
              "                <div class=\"spinner-text\" id=\"41ffa05b-2a00-424e-a433-5a3e4e4f5721-text\">Initializing Chromedriver</div>\n",
              "            </div>\n",
              "            <style>\n",
              "                @keyframes spin {\n",
              "                    from { transform: rotate(0deg); }\n",
              "                    to { transform: rotate(360deg); }\n",
              "                }\n",
              "\n",
              "                .spinner-container {\n",
              "                    display: flex;\n",
              "                    align-items: center;\n",
              "                    margin-bottom: 3px;\n",
              "                }\n",
              "\n",
              "                .spinner {\n",
              "                    border: 3px solid rgba(0, 0, 0, 0.1);\n",
              "                    border-left-color: lightblue;\n",
              "                    border-radius: 50%;\n",
              "                    width: 12px;\n",
              "                    height: 12px;\n",
              "                    animation: spin 1s linear infinite;\n",
              "                }\n",
              "\n",
              "                .spinner-text {\n",
              "                    padding-left: 6px;\n",
              "                }\n",
              "            </style>\n",
              "        "
            ]
          },
          "metadata": {}
        },
        {
          "output_type": "display_data",
          "data": {
            "text/plain": [
              "<IPython.core.display.Javascript object>"
            ],
            "application/javascript": [
              "\n",
              "            const element = document.getElementById(\"41ffa05b-2a00-424e-a433-5a3e4e4f5721-circle\");\n",
              "            element.style.border = \"3px solid limegreen\";\n",
              "            element.style.animation = \"none\";\n",
              "\n",
              "            const text = document.getElementById(\"41ffa05b-2a00-424e-a433-5a3e4e4f5721-text\");\n",
              "            text.innerText = \"Initialized Chromedriver\";\n",
              "        "
            ]
          },
          "metadata": {}
        },
        {
          "output_type": "stream",
          "name": "stdout",
          "text": [
            "Page 1: Found 14 results.\n",
            "No more pages or error navigating to the next page.\n",
            "Total pages scanned: 0\n",
            "Total results found: 14\n",
            "Results saved to antibody_vendors.csv\n",
            "                                                Title  \\\n",
            "0                  neuromedin B antibody (10888-1-AP)   \n",
            "1       neuromedin B Polyclonal Antibody (10888-1-AP)   \n",
            "2           Neuromedin B receptor Polyclonal Antibody   \n",
            "3                                                 NaN   \n",
            "4                                                 NaN   \n",
            "5                                                 NaN   \n",
            "6                                                 NaN   \n",
            "7   Antibody: NMB / Neuromedin B Rabbit anti-Human...   \n",
            "8                   Neuromedin B antibody (AA 25-121)   \n",
            "9               Anti-Neuromedin B antibody (ab191499)   \n",
            "10  Neuromedin B Rabbit anti-Human, Polyclonal, No...   \n",
            "11    Neuromedin BR/NMBR Antibody - BSA Free (NLS825)   \n",
            "12  Assessment of neuromedin B polyclonal antibodi...   \n",
            "13                Anti-Neuromedin B Antibody Products   \n",
            "\n",
            "                          URL  \n",
            "0              www.ptglab.com  \n",
            "1        www.thermofisher.com  \n",
            "2        www.thermofisher.com  \n",
            "3              www.rxlist.com  \n",
            "4       www.sciencedirect.com  \n",
            "5       www.bdbiosciences.com  \n",
            "6       www.sciencedirect.com  \n",
            "7               www.lsbio.com  \n",
            "8   www.antibodies-online.com  \n",
            "9               www.abcam.com  \n",
            "10          www.fishersci.com  \n",
            "11           www.novusbio.com  \n",
            "12    pubmed.ncbi.nlm.nih.gov  \n",
            "13         www.biocompare.com  \n"
          ]
        }
      ]
    },
    {
      "cell_type": "markdown",
      "source": [
        "Getting suppliers domains off of BioCompare"
      ],
      "metadata": {
        "id": "m-wCyYsEGVPV"
      }
    },
    {
      "cell_type": "code",
      "source": [
        "import requests\n",
        "from bs4 import BeautifulSoup\n",
        "import pandas as pd\n",
        "import time\n",
        "\n",
        "def google_search_first_result(term):\n",
        "    search_url = f\"https://www.google.com/search?q={term}+antibody\"\n",
        "    headers = {\n",
        "        'User-Agent': 'Mozilla/5.0 (Windows NT 10.0; Win64; x64) AppleWebKit/537.36 (KHTML, like Gecko) Chrome/91.0.4472.124 Safari/537.36'\n",
        "    }\n",
        "\n",
        "    response = requests.get(search_url, headers=headers)\n",
        "    soup = BeautifulSoup(response.text, 'html.parser')\n",
        "\n",
        "    search_results = soup.find_all('div', class_='g')\n",
        "\n",
        "    results = []\n",
        "    for result in search_results:\n",
        "        try:\n",
        "            title = result.find('h3').text\n",
        "            link = result.find('a')['href']\n",
        "            domain = link.split('/')[2]\n",
        "            results.append((title, domain))\n",
        "            break  # Get only the first result\n",
        "        except Exception as e:\n",
        "            continue\n",
        "\n",
        "    return results\n",
        "\n",
        "def scrape_suppliers():\n",
        "    # Load the local HTML file\n",
        "    with open('/mnt/data/antibodies-online source code.txt', 'r') as file:\n",
        "        html_content = file.read()\n",
        "\n",
        "    # Parse the HTML content with BeautifulSoup\n",
        "    soup = BeautifulSoup(html_content, 'html.parser')\n",
        "\n",
        "    suppliers = []\n",
        "\n",
        "    # Iterate through each span with class \"h5\" and extract supplier names\n",
        "    for span in soup.find_all('span', class_='h5'):\n",
        "        button = span.find('button', {'name': 'suppler-submit'})\n",
        "        if button:\n",
        "            name = button.text.strip()\n",
        "            suppliers.append(name)\n",
        "\n",
        "    print(f\"Extracted {len(suppliers)} suppliers\")\n",
        "\n",
        "    supplier_urls = []\n",
        "    for supplier in suppliers:\n",
        "        print(f\"Searching for supplier: {supplier}\")\n",
        "        search_results = google_search_first_result(supplier)\n",
        "        if search_results:\n",
        "            supplier_urls.append((supplier, search_results[0][1]))\n",
        "        else:\n",
        "            supplier_urls.append((supplier, \"No URL found\"))\n",
        "\n",
        "    # Save to CSV\n",
        "    df = pd.DataFrame(supplier_urls, columns=[\"Supplier\", \"URL\"])\n",
        "    df.to_csv('/mnt/data/antibodies-online-suppliers-list.csv', index=False)\n",
        "    print(\"Suppliers' names and URLs have been saved to 'antibodies-online-suppliers-list.csv'.\")\n",
        "\n",
        "    # Open the CSV file\n",
        "    print(df)\n",
        "\n",
        "# Running the updated function\n",
        "scrape_suppliers()\n"
      ],
      "metadata": {
        "id": "2k3CTyV4-6bI"
      },
      "execution_count": null,
      "outputs": []
    },
    {
      "cell_type": "markdown",
      "source": [
        "Working off head(antibody_vendor) to standardize element search across websites"
      ],
      "metadata": {
        "id": "aAhXeL3TbmoW"
      }
    },
    {
      "cell_type": "code",
      "source": [
        "%pip install -q google-colab-selenium\n",
        "from selenium.webdriver.common.by import By\n",
        "from selenium.webdriver.support.ui import WebDriverWait\n",
        "from selenium.webdriver.support import expected_conditions as EC\n",
        "from selenium.common.exceptions import ElementNotInteractableException, NoSuchElementException\n",
        "import os\n",
        "import re\n",
        "from Bio import Entrez\n",
        "from google.colab import files\n",
        "import io\n",
        "import time\n",
        "import requests\n",
        "import csv\n",
        "from bs4 import BeautifulSoup\n",
        "import pandas as pd\n",
        "\n",
        "import google_colab_selenium as gs\n",
        "from selenium.webdriver.common.keys import Keys\n",
        "\n",
        "driver = gs.Chrome()\n",
        "\n",
        "def find_search_bar(driver):\n",
        "    search_bar = None\n",
        "    # Search with various common attributes and broader matching\n",
        "    search_bar = search_bar or driver.find_elements(By.XPATH, '//input[contains(@placeholder, \"search\") or contains(@placeholder, \"keyword\")]')\n",
        "    search_bar = search_bar or driver.find_elements(By.XPATH, '//input[contains(@class, \"search\") or contains(@class, \"keyword\")]')\n",
        "    search_bar = search_bar or driver.find_elements(By.XPATH, '//input[@type=\"text\" or @type=\"search\"]')\n",
        "    search_bar = search_bar or driver.find_elements(By.XPATH, '//input[contains(@name, \"search\") or contains(@name, \"keyword\")]')\n",
        "    search_bar = search_bar or driver.find_elements(By.XPATH, '//input[contains(@id, \"search\") or contains(@id, \"keyword\")]')\n",
        "    search_bar = search_bar or driver.find_elements(By.XPATH, '//input[contains(@title, \"search\") or contains(@title, \"keyword\")]')\n",
        "    search_bar = search_bar or driver.find_elements(By.XPATH, '//input[contains(@aria-label, \"search\") or contains(@aria-label, \"keyword\")]')\n",
        "    search_bar = search_bar or driver.find_elements(By.XPATH, '//input[contains(@role, \"search\") or contains(@role, \"keyword\")]')\n",
        "\n",
        "    # Specific search for 'keywords' as seen in the R&D Systems HTML\n",
        "    search_bar = search_bar or driver.find_elements(By.XPATH, '//input[@name=\"keywords\"]')\n",
        "\n",
        "    return search_bar[0] if search_bar else None\n",
        "\n",
        "\n",
        "def search_website(driver, url, search_terms):\n",
        "    driver.get(url)\n",
        "    search_bar = find_search_bar(driver)\n",
        "    if search_bar:\n",
        "        try:\n",
        "            search_bar.clear()\n",
        "            search_bar.send_keys(search_terms)\n",
        "            search_bar.send_keys(Keys.RETURN)\n",
        "            print(f\"Navigated to search results page for {url}.\")\n",
        "            return driver.current_url\n",
        "        except ElementNotInteractableException:\n",
        "            print(f\"Search bar not interactable on {url}.\")\n",
        "            return None\n",
        "    else:\n",
        "        print(f\"No search bar found on {url}.\")\n",
        "        return None\n",
        "\n",
        "def click_first_result(driver):\n",
        "    try:\n",
        "        first_product_link = WebDriverWait(driver, 10).until(\n",
        "            EC.presence_of_element_located((By.XPATH, '//a[contains(@href, \"products/primary-antibodies\")]'))\n",
        "        )\n",
        "        first_product_link.click()\n",
        "        print(\"Clicked on the first product link and navigated to the product page.\")\n",
        "    except Exception as e:\n",
        "        print(f\"Error clicking the first product link: {e}\")\n",
        "        return None\n",
        "\n",
        "def extract_immunogen(driver):\n",
        "    keywords = ['Immunogen', 'Antigen', 'Epitope', 'Sequence', 'Peptide']\n",
        "    for keyword in keywords:\n",
        "        try:\n",
        "            element = WebDriverWait(driver, 10).until(\n",
        "                EC.presence_of_element_located((By.XPATH, f'//*[contains(text(), \"{keyword}\")]'))\n",
        "            )\n",
        "            immunogen_text = element.text\n",
        "            print(f\"{keyword}: {immunogen_text}\")\n",
        "            return immunogen_text\n",
        "        except Exception as e:\n",
        "            continue\n",
        "    print(\"No immunogen element found.\")\n",
        "    return \"No immunogen element found.\"\n",
        "\n",
        "def main():\n",
        "    search_terms = \"neuromedin b\"\n",
        "    input_file = 'antibody_vendors.csv'\n",
        "    output_file = '/content/antibody_vendors_output.csv'\n",
        "\n",
        "    with open(input_file, 'r') as csvfile:\n",
        "        reader = csv.DictReader(csvfile)\n",
        "        results = []\n",
        "        for i, row in enumerate(reader):\n",
        "            if i >= 6:\n",
        "                break\n",
        "            url = f\"https://{row['URL']}\"\n",
        "            title = row['Title']\n",
        "            search_results_url = search_website(driver, url, search_terms)\n",
        "            if search_results_url:\n",
        "                click_first_result(driver)\n",
        "                immunogen = extract_immunogen(driver)\n",
        "                results.append({\n",
        "                    'Title': title,\n",
        "                    'URL': url,\n",
        "                    'Search Results URL': search_results_url,\n",
        "                    'Immunogen HTML': immunogen\n",
        "                })\n",
        "            time.sleep(2)  # Delay to avoid being blocked by websites\n",
        "\n",
        "    df = pd.DataFrame(results)\n",
        "    df.to_csv(output_file, index=False)\n",
        "    print(f\"Results saved to {output_file}\")\n",
        "    print(df)\n",
        "\n",
        "if __name__ == \"__main__\":\n",
        "    main()\n"
      ],
      "metadata": {
        "colab": {
          "base_uri": "https://localhost:8080/",
          "height": 1000
        },
        "id": "LSLSG-sXb1vl",
        "outputId": "167585b3-d5f5-4440-a0d8-7fbdd2057d2e"
      },
      "execution_count": null,
      "outputs": [
        {
          "output_type": "display_data",
          "data": {
            "text/plain": [
              "<IPython.core.display.HTML object>"
            ],
            "text/html": [
              "\n",
              "            <div class=\"spinner-container\">\n",
              "                <div class=\"spinner\" id=\"cc40d4fc-c885-4c3f-ae0b-481d26feec23-circle\"></div>\n",
              "                <div class=\"spinner-text\" id=\"cc40d4fc-c885-4c3f-ae0b-481d26feec23-text\">Initializing Chromedriver</div>\n",
              "            </div>\n",
              "            <style>\n",
              "                @keyframes spin {\n",
              "                    from { transform: rotate(0deg); }\n",
              "                    to { transform: rotate(360deg); }\n",
              "                }\n",
              "\n",
              "                .spinner-container {\n",
              "                    display: flex;\n",
              "                    align-items: center;\n",
              "                    margin-bottom: 3px;\n",
              "                }\n",
              "\n",
              "                .spinner {\n",
              "                    border: 3px solid rgba(0, 0, 0, 0.1);\n",
              "                    border-left-color: lightblue;\n",
              "                    border-radius: 50%;\n",
              "                    width: 12px;\n",
              "                    height: 12px;\n",
              "                    animation: spin 1s linear infinite;\n",
              "                }\n",
              "\n",
              "                .spinner-text {\n",
              "                    padding-left: 6px;\n",
              "                }\n",
              "            </style>\n",
              "        "
            ]
          },
          "metadata": {}
        },
        {
          "output_type": "display_data",
          "data": {
            "text/plain": [
              "<IPython.core.display.Javascript object>"
            ],
            "application/javascript": [
              "\n",
              "            const element = document.getElementById(\"cc40d4fc-c885-4c3f-ae0b-481d26feec23-circle\");\n",
              "            element.style.border = \"3px solid limegreen\";\n",
              "            element.style.animation = \"none\";\n",
              "\n",
              "            const text = document.getElementById(\"cc40d4fc-c885-4c3f-ae0b-481d26feec23-text\");\n",
              "            text.innerText = \"Initialized Chromedriver\";\n",
              "        "
            ]
          },
          "metadata": {}
        },
        {
          "output_type": "stream",
          "name": "stdout",
          "text": [
            "Navigated to search results page for https://www.abcam.com.\n",
            "Clicked on the first product link and navigated to the product page.\n",
            "Immunogen: Immunogen\n",
            "No search bar found on https://www.rndsystems.com.\n",
            "Search bar not interactable on https://www.antibodies.com.\n",
            "Navigated to search results page for https://abclonal.com.\n",
            "Error clicking the first product link: Message: \n",
            "Stacktrace:\n",
            "#0 0x55eac190369a <unknown>\n",
            "#1 0x55eac15e60dc <unknown>\n",
            "#2 0x55eac1632931 <unknown>\n",
            "#3 0x55eac1632a21 <unknown>\n",
            "#4 0x55eac1677234 <unknown>\n",
            "#5 0x55eac165589d <unknown>\n",
            "#6 0x55eac16745c3 <unknown>\n",
            "#7 0x55eac1655613 <unknown>\n",
            "#8 0x55eac16254f7 <unknown>\n",
            "#9 0x55eac1625e4e <unknown>\n",
            "#10 0x55eac18c986b <unknown>\n",
            "#11 0x55eac18cd911 <unknown>\n",
            "#12 0x55eac18b535e <unknown>\n",
            "#13 0x55eac18ce472 <unknown>\n",
            "#14 0x55eac1899cbf <unknown>\n",
            "#15 0x55eac18f3098 <unknown>\n",
            "#16 0x55eac18f3270 <unknown>\n",
            "#17 0x55eac19027cc <unknown>\n",
            "#18 0x7bec7ef5fac3 <unknown>\n",
            "\n",
            "Antigen: \n",
            "Search bar not interactable on https://antibodyresearch.com.\n",
            "Navigated to search results page for https://www.antibodiesinc.com.\n",
            "Error clicking the first product link: Message: \n",
            "Stacktrace:\n",
            "#0 0x55eac190369a <unknown>\n",
            "#1 0x55eac15e60dc <unknown>\n",
            "#2 0x55eac1632931 <unknown>\n",
            "#3 0x55eac1632a21 <unknown>\n",
            "#4 0x55eac1677234 <unknown>\n",
            "#5 0x55eac165589d <unknown>\n",
            "#6 0x55eac16745c3 <unknown>\n",
            "#7 0x55eac1655613 <unknown>\n",
            "#8 0x55eac16254f7 <unknown>\n",
            "#9 0x55eac1625e4e <unknown>\n",
            "#10 0x55eac18c986b <unknown>\n",
            "#11 0x55eac18cd911 <unknown>\n",
            "#12 0x55eac18b535e <unknown>\n",
            "#13 0x55eac18ce472 <unknown>\n",
            "#14 0x55eac1899cbf <unknown>\n",
            "#15 0x55eac18f3098 <unknown>\n",
            "#16 0x55eac18f3270 <unknown>\n",
            "#17 0x55eac19027cc <unknown>\n",
            "#18 0x7bec7ef5fac3 <unknown>\n",
            "\n",
            "Antigen: \n",
            "Results saved to /content/antibody_vendors_output.csv\n",
            "             Title                            URL  \\\n",
            "0            Abcam          https://www.abcam.com   \n",
            "1         AbClonal           https://abclonal.com   \n",
            "2  Antibodies Inc.  https://www.antibodiesinc.com   \n",
            "\n",
            "                                  Search Results URL Immunogen HTML  \n",
            "0  https://www.abcam.com/products?keywords=neurom...      Immunogen  \n",
            "1                              https://abclonal.com/                 \n",
            "2  https://www.antibodiesinc.com/search?q=neurome...                 \n"
          ]
        }
      ]
    },
    {
      "cell_type": "markdown",
      "source": [],
      "metadata": {
        "id": "iYUi1krxb1Oj"
      }
    }
  ]
}